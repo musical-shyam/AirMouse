{
  "nbformat": 4,
  "nbformat_minor": 0,
  "metadata": {
    "colab": {
      "provenance": [],
      "include_colab_link": true
    },
    "kernelspec": {
      "name": "python3",
      "display_name": "Python 3"
    },
    "language_info": {
      "name": "python"
    }
  },
  "cells": [
    {
      "cell_type": "markdown",
      "metadata": {
        "id": "view-in-github",
        "colab_type": "text"
      },
      "source": [
        "<a href=\"https://colab.research.google.com/github/musical-shyam/AirMouse/blob/main/cs480e_2024%2C3f_assignment2.ipynb\" target=\"_parent\"><img src=\"https://colab.research.google.com/assets/colab-badge.svg\" alt=\"Open In Colab\"/></a>"
      ]
    },
    {
      "cell_type": "markdown",
      "source": [
        "# Assignment 2\n",
        "**Due November 10th, 11:59 PM**\n",
        "\n",
        "GitHub Classroom assignment link:\n",
        "https://classroom.github.com/a/_Q_ALLFP.\n",
        "Instructions for how to connect your Google Colab to GitHub are [here](https://colab.research.google.com/github/googlecolab/colabtools/blob/main/notebooks/colab-github-demo.ipynb)."
      ],
      "metadata": {
        "id": "tUheapJCOaxW"
      }
    },
    {
      "cell_type": "markdown",
      "source": [
        "Name: Shyam Kannan<br>\n",
        "B-Number: B01037711<br>\n",
        "Email: skannan@binghamton.edu"
      ],
      "metadata": {
        "id": "26iemMN3qq0v"
      }
    },
    {
      "cell_type": "markdown",
      "source": [
        "In the following assignment,\n",
        "you will be implementing functions and their analytical derivatives to train linear classifiers and neural networks on the MNIST dataset.\n",
        "You are allowed and expected to use NumPy.\n",
        "**You are not allowed to use PyTorch.**\n",
        "\n",
        "Tasks that need to be completed are indicated with a\n",
        "right-pointing triangle (&#9658;)\n",
        "or clearly stated in the experiments section.\n",
        "\n",
        "<!--\n",
        "The experiments section for each classifier also need to be implemented. You should follow the instructions above the cell. You may also add additional cells.\n",
        "-->\n",
        "\n",
        "Cells that need to be run to set up the appropriate infrastructure are indicated with a downward-pointing triangle (&#9660;).\n",
        "Such cells do not need to be modified.\n",
        "Make sure you have run the previous cells before running the current cell, or you may get an error.\n",
        "\n",
        "DEBUGGING TIP: Do not use a random seed for any random numbers.\n",
        "This is so that your debugging output is deterministic.\n",
        "Also, make sure that your code can work for trivially-simple cases.\n",
        "For example, make sure that it can work with one sample, one feature, and one class.\n",
        "Then run with such an input and configuration.\n",
        "You can then easily manually verify that your code is working.\n",
        "\n",
        "Submission will be via GitHub Classroom. **You are required to have at least 10 commits for this assignment.**"
      ],
      "metadata": {
        "id": "jqLULe5pxwpH"
      }
    },
    {
      "cell_type": "markdown",
      "source": [
        "## Import statements\n",
        "\n",
        "&#9660;Run the cell below to import the packages needed for the code below.\n",
        "Most other packages are also okay,\n",
        "but you must ask first."
      ],
      "metadata": {
        "id": "Hnw_h7A1Orc9"
      }
    },
    {
      "cell_type": "code",
      "execution_count": 1,
      "metadata": {
        "id": "JLEavoS9O9g-"
      },
      "outputs": [],
      "source": [
        "import csv\n",
        "import numpy as np\n",
        "import matplotlib.pyplot as plt"
      ]
    },
    {
      "cell_type": "markdown",
      "source": [
        "# Part 1: Backpropagation"
      ],
      "metadata": {
        "id": "VIBNL5SMPMt5"
      }
    },
    {
      "cell_type": "markdown",
      "source": [
        "## 1.1 Linear Transforms\n",
        "\n",
        "A linear classifier computes a vector of scores for a single sample,\n",
        "with one score for each class.\n",
        "Let $D$ be the number of features and\n",
        "$M$ be the number of classes.\n",
        "Then the score $y_{i,k}$ for the $k$-th class of the $i$-th sample\n",
        "is computed by:\n",
        "\n",
        "$$\n",
        "y_{i,k} = \\sum_{j = 1}^{D} w_{j,k}x_{i,j} + b_k\n",
        "$$\n",
        "\n",
        "where $w_{j,k}$ is the $j$-th weight for the $k$-th class,\n",
        "$x_{i,j}$ is the $j$-th feature for the $i$-th sample,\n",
        "and $b_k$ is the bias term for class $k$.\n",
        "Note that the we are using the *second* index $k$\n",
        "of $w_{j,k}$ to denote the class, and the *first* index $j$ to denote the $j$-th weight of that class.\n",
        "\n",
        "During training,\n",
        "we often group $N$ samples into what is called a *minibatch*,\n",
        "and process the whole minibatch at once.\n",
        "This is more efficient,\n",
        "and also improves the gradient descent convergence.\n",
        "Letting each sample be a row in the $N\\times D$ matrix $X$,\n",
        "we can then write this as\n",
        "\n",
        "$$\n",
        "Y = XW + B\n",
        "$$\n",
        "\n",
        "where $W$ is the $D \\times M$ weight matrix.\n",
        "The weights for each class form a column in $W$.\n",
        "All the biases have been collected into a single matrix $B$.\n",
        "\n",
        "Although the above can work,\n",
        "we can turn it into a single matrix multiplication\n",
        "via the &ldquo;bias trick&rdquo;,\n",
        "which adds an extra dummy feature in the input sample\n",
        "that is always hard-coded to 1,\n",
        "and then adding an extra weight that is the bias term.\n",
        "\n",
        "$$\n",
        "y_{i,k} = \\sum_{j = 1}^{D + 1} w_{j,k}x_{i,j}, \\ \\ \\text{with}\\ \\ x_{i,D+1} = 1\n",
        "$$\n",
        "\n",
        "The scores for a whole minibatch can now be computed via a standard matrix\n",
        "multiplication.\n",
        "\n",
        "$$\n",
        "Y = X'W'\n",
        "$$\n",
        "\n",
        "where $X'$ and $W'$ are the augmented sample and weight matrices.\n",
        "This transformation forms the basis of a linear, fully-connected (also called &ldquo;dense&rdquo;) layer in a neural network."
      ],
      "metadata": {
        "id": "VhFZKNmUXzt4"
      }
    },
    {
      "cell_type": "markdown",
      "source": [
        "&#9654; Implement `linear_forward(X, W)` in the cell below to perform the forward pass of\n",
        "a single linear layer on a batch of samples $X$,\n",
        "using the weights from $W$.\n",
        "The matrix $W$ has already had the bias added to it,\n",
        "but $X$ has not been augmented in any way."
      ],
      "metadata": {
        "id": "KszunLwwRJqZ"
      }
    },
    {
      "cell_type": "code",
      "source": [
        "def linear_forward(X, W):\n",
        "    \"\"\"\n",
        "    Computes the forward pass for a linear transformation.\n",
        "\n",
        "    Consider a linear layer that accepts inputs with D features,\n",
        "    and has M neurons.  Assume that our minibatch size\n",
        "    is N.  In other words, we wish to process N samples at once.\n",
        "\n",
        "    The input X has shape (N, D) and contains a minibatch of N\n",
        "    samples, where each sample X[i] has shape (D).  Each sample\n",
        "    will be transformed to an output vector of dimension M.\n",
        "\n",
        "    Inputs:\n",
        "    - X: A numpy array containing input data, of shape (N, D)\n",
        "    - W: A numpy array of weights, of shape (D+1, M)\n",
        "\n",
        "    Returns a tuple of:\n",
        "    - out: output, of shape (N, M)\n",
        "    - cache: (X, W)\n",
        "\n",
        "    The returned (X, W) is redundant, but makes the training code\n",
        "    more concise.\n",
        "\n",
        "    \"\"\"\n",
        "\n",
        "    out = None # Initialize the out variable.\n",
        "\n",
        "    #\n",
        "    # PUT YOUR CODE BELOW: Below, implement the linear forward pass. Store the result in out.\n",
        "    # Make sure to do the bias trick!\n",
        "    #\n",
        "\n",
        "\n",
        "    B = np.ones((X.shape[0], 1)) # Creating a column of ones\n",
        "    X_ = np.hstack((X, B)) # adding the column at the end of the X_ Matrix which is going to be used for calculating output\n",
        "    out = X_.dot(W) # Calculating the Output Matrix\n",
        "\n",
        "\n",
        "    # The lines below do not need to be changed.\n",
        "    cache = (X, W)\n",
        "\n",
        "    return out, cache"
      ],
      "metadata": {
        "id": "fsl6QHm_PJdi"
      },
      "execution_count": 28,
      "outputs": []
    },
    {
      "cell_type": "markdown",
      "source": [
        "&#9658; Implement `linear_backward(d_upstream, cache)` that returns the downstream analytical gradients with respect to $X$ and $W$,\n",
        "given the upstream gradients and $X$ and $W$.\n",
        "See here for details on how to [backpropagate through a linear layer.](https://web.eecs.umich.edu/~justincj/teaching/eecs442/notes/linear-backprop.html)\n",
        "You do not need to understand the derivation, thought it is good practice.\n",
        "But you do need to use the result."
      ],
      "metadata": {
        "id": "VLnk9xwpRf2T"
      }
    },
    {
      "cell_type": "code",
      "source": [
        "def linear_backward(d_upstream, cache):\n",
        "    \"\"\"\n",
        "    Computes the backward pass for an linear layer.\n",
        "\n",
        "    Inputs:\n",
        "    - d_upstream: Upstream derivative, of shape (N, M)\n",
        "    - cache: Tuple of:\n",
        "      - X: Input data, of shape (N, D)\n",
        "      - W: Weights, of shape (D+1, M)\n",
        "\n",
        "    Returns a tuple of:\n",
        "    - dX: Gradient of the output of this layer with respect to X, of shape (N, D).\n",
        "          This is the downstream gradient.\n",
        "    - dW: Gradient with respect to W, of shape (D+1, M)\n",
        "    \"\"\"\n",
        "    X, W = cache\n",
        "    dX, dW = None, None\n",
        "\n",
        "    # PUT YOUR CODE BELOW: Implement the linear backward pass by calculating the\n",
        "    # gradient with respect to the cached inputs X and W. Store them in the\n",
        "    # variables dX and dW.\n",
        "\n",
        "    dX = d_upstream.dot(W.T) # dx = d_upstream . (w)^T\n",
        "    dX = dX[:, :-1] # here removing the bias column\n",
        "\n",
        "    B = np.ones((X.shape[0], 1)) # Creating a column of ones\n",
        "    X_ = np.hstack((X, B)) # adding the column at the end of the X Matrix\n",
        "    dW = X_.T.dot(d_upstream) # dw = (x)^T . d_upstream\n",
        "\n",
        "\n",
        "\n",
        "    # The lines below do not need to be changed.\n",
        "\n",
        "    return dX, dW"
      ],
      "metadata": {
        "id": "41ac6dd5TSEX"
      },
      "execution_count": 29,
      "outputs": []
    },
    {
      "cell_type": "markdown",
      "source": [
        "## 1.2 Checking Gradients with Finite Differences\n",
        "\n",
        "Numerical code can be difficult to debug.\n",
        "The general approach is to compare the answer given\n",
        "by your code to the answer obtained from some other technique.\n",
        "A finite difference is a numerical approximation to the derivative which can be used to check your gradients.\n",
        "Because it is only an approximation,\n",
        "you do not use it for actual training,\n",
        "however.\n",
        "\n",
        "The multi-variate central finite difference for a function $f(x,y)$ is given by:\n",
        "\n",
        "$$\n",
        "\\frac{\\partial  f}{\\partial x} = \\frac{f(x+h, y)-f(x-h, y)}{2h}\n",
        "$$\n",
        "\n",
        "and\n",
        "\n",
        "$$\n",
        "\\frac{\\partial  f}{\\partial y} = \\frac{f(x, y+h)-f(x, y-h)}{2h}\n",
        "$$\n",
        "\n",
        "The above pattern holds for functions with more variables.\n",
        "For our purposes,\n",
        "an $h$ of about $10^{-9}$ should be adequate."
      ],
      "metadata": {
        "id": "lk1XRA9LSKml"
      }
    },
    {
      "cell_type": "markdown",
      "source": [
        "&#9658; In the next cell,\n",
        "implement the `finite_difference_linear(d_upstream, cache, h)` function.\n",
        "This function is analogous to `linear_backward()`\n",
        "in that it computes the derivative matrices\n",
        "$\\frac{\\partial L}{\\partial X}$ and\n",
        "$\\frac{\\partial L}{\\partial W}$,\n",
        "given an upstream gradient,\n",
        "but it actually estimates the local gradient\n",
        "using a finite difference.\n",
        "The `h` parameter corresponds to $h$ above;\n",
        "the other parameters are the same as for `linear_backward()`.\n",
        "\n",
        "Recall that the downstream gradient can be computed from\n",
        "the local gradient and upstream gradient by applying the\n",
        "chain rule.\n",
        "In this case,\n",
        "we need the multivariable chain rule,\n",
        "because the loss is a function of the output from layer,\n",
        "which we will call matrix $Y$,\n",
        "and $L$ potentially depends on\n",
        "every element $y_{k,l}$ of $Y$.\n",
        "(Any non-singleton matrix is multivariable by definition.)\n",
        "In particular,\n",
        "\n",
        "$$\n",
        "\\frac{\\partial L}{\\partial x_{i,j}}\n",
        "= \\sum^{N}_{k=1}\\sum^{M}_{l=1} \\frac{\\partial L}{\\partial y_{k,l}}\n",
        "\\frac{\\partial y_{k,l}}{\\partial x_{i,j}}\n",
        "$$\n",
        "\n",
        "where the $\\frac{\\partial L}{\\partial y_{k,l}}$ form the upstream\n",
        "gradient and the $\\frac{\\partial y_{k,l}}{\\partial x_{i,j}}$ form the local gradient.\n",
        "(Note that $\\frac{\\partial y_{k,l}}{\\partial x_{i,j}} = 0$ in our case when $k \\neq i$,\n",
        "because a given sample does not affect the output for other samples\n",
        "in the same minibatch.\n",
        "This fact could be used to optimize the code,\n",
        "but there is no requirement to do so for this assignment.\n",
        "The notes from Justin Johson explain how to do this.)\n",
        "This simplifies nicely as the gradient for each variable in the matrix is the sum of the products of each upstream partial derivative\n",
        "$\\frac{\\partial L}{\\partial y_{k,l}}$\n",
        "from `d_upstream` and the corresponding element in the finite difference matrix.\n",
        "(This operation is analogous to the dot product,\n",
        "except it is performed on matrices instead of vectors,\n",
        "and is called the\n",
        "[Frobenius product](https://en.wikipedia.org/wiki/Frobenius_inner_product).)"
      ],
      "metadata": {
        "id": "Je8LC4OnT-rU"
      }
    },
    {
      "cell_type": "code",
      "source": [
        "def finite_difference_linear(d_upstream, cache, h):\n",
        "    '''\n",
        "    Computes the numerical gradient for a linear layer\n",
        "\n",
        "    Inputs:\n",
        "    - d_upstream: Upstream derivative, of shape (N, M)\n",
        "    - cache: Tuple of:\n",
        "      - X: Input data, of shape (N, D)\n",
        "      - W: Weights, of shape (D+1, M)\n",
        "    - h: The h to use in the finite difference.\n",
        "\n",
        "    Returns a tuple of:\n",
        "    - dX: Gradient with respect to X, of shape (N, D).  This is the downstream\n",
        "          gradient.\n",
        "    - dW: Gradient with respect to W, of shape (D+1, M)\n",
        "    '''\n",
        "\n",
        "    dX = None\n",
        "    dW = None\n",
        "\n",
        "    # PUT YOUR CODE BELOW: Implement the finite difference for the linear\n",
        "    # function.  Return the gradient at input (X,W) w.r.t to x and w.\n",
        "    # calling inputs and weights\n",
        "    X, W = cache\n",
        "    # storing the shape of the arrays\n",
        "    N, D = X.shape\n",
        "    _, M = W.shape\n",
        "\n",
        "    # Initializing dX and dW\n",
        "    dX = np.zeros(X.shape)\n",
        "    dW = np.zeros(W.shape)\n",
        "\n",
        "    # Looping over every sample feature and weigh to calculate dL/dx and dL/dw.\n",
        "    for i in range(N):\n",
        "      for j in range(D):\n",
        "          X_plus = X.copy()\n",
        "          X_minus = X.copy()\n",
        "          X_plus[i, j] += h\n",
        "          X_minus[i, j] -= h\n",
        "\n",
        "          Y_plus, _ = linear_forward(X_plus, W)\n",
        "          Y_minus, _ = linear_forward(X_minus, W)\n",
        "\n",
        "          dY = (Y_plus - Y_minus) / (2 * h)\n",
        "          # Compute the gradient w.r.t X[i, j]\n",
        "          dX[i, j] = np.sum(dY * d_upstream[i])\n",
        "\n",
        "    D_plus1, M = W.shape\n",
        "    dW = np.zeros_like(W)\n",
        "    for i in range(D_plus1):\n",
        "        for j in range(M):\n",
        "            W_plus = W.copy()\n",
        "            W_minus = W.copy()\n",
        "            W_plus[i, j] += h\n",
        "            W_minus[i, j] -= h\n",
        "\n",
        "            Y_plus, _ = linear_forward(X, W_plus)\n",
        "            Y_minus, _ = linear_forward(X, W_minus)\n",
        "\n",
        "            dY = (Y_plus - Y_minus) / (2 * h)\n",
        "            # Compute the gradient w.r.t W[i, j]\n",
        "            dW[i, j] = np.sum(dY * d_upstream)\n",
        "\n",
        "    # The lines below do not need to be changed.\n",
        "    return dX, dW"
      ],
      "metadata": {
        "id": "HvUDtyAWUx7u"
      },
      "execution_count": 6,
      "outputs": []
    },
    {
      "cell_type": "markdown",
      "source": [
        "&#9660; Run this cell to do a gradient check to test the analytical gradients from the `linear_backward()` function with `finite_difference_linear()`."
      ],
      "metadata": {
        "id": "iTNHRnDDvCMS"
      }
    },
    {
      "cell_type": "code",
      "source": [
        "def gradient_check_linear():\n",
        "    N = 16\n",
        "    D = 4\n",
        "    C = 3\n",
        "\n",
        "    test_weight = np.random.random((D+1, C))\n",
        "    test_input = np.random.random((N, D))\n",
        "    dout = np.random.random((N, C))\n",
        "\n",
        "    cache = (test_input, test_weight)\n",
        "\n",
        "    grad_x_numerical, grad_w_numerical = finite_difference_linear(dout, cache, 1E-9)\n",
        "    grad_x_analytical, grad_w_analytical = linear_backward(dout, cache)\n",
        "\n",
        "    check_input_gradient = np.allclose(grad_x_numerical, grad_x_analytical)\n",
        "    check_weight_gradient = np.allclose(grad_w_numerical, grad_w_analytical)\n",
        "\n",
        "    if not check_input_gradient:\n",
        "        print(\"The gradient with respect to x failed\")\n",
        "\n",
        "    if not check_weight_gradient:\n",
        "        print(\"The gradient respect to w failed\")\n",
        "    print()\n",
        "    print(\"gradient check for linear passed!\")\n",
        "\n",
        "gradient_check_linear()"
      ],
      "metadata": {
        "id": "jvmbfkfRPSZX",
        "colab": {
          "base_uri": "https://localhost:8080/"
        },
        "outputId": "59be80a9-d99b-4638-ed73-1730d5548d2d"
      },
      "execution_count": 7,
      "outputs": [
        {
          "output_type": "stream",
          "name": "stdout",
          "text": [
            "\n",
            "gradient check for linear passed!\n"
          ]
        }
      ]
    },
    {
      "cell_type": "markdown",
      "source": [
        "# Part 2: Linear Classifiers\n",
        "\n",
        "In this section,\n",
        "we will build upon the previously implemented layer to\n",
        "create linear classifiers.\n",
        "We will train them on high-dimensional real world data."
      ],
      "metadata": {
        "id": "i1DiweHpU-_U"
      }
    },
    {
      "cell_type": "markdown",
      "source": [
        "## 2.1 MNIST Dataset\n",
        "\n",
        "The dataset we will use is MNIST,\n",
        "a set of images of handwritten digits compiled by the National Institute of Standards and Technology (NIST).\n",
        "This dataset is widely used as a an example for machine learning algorithms for image classification.\n",
        "The images are 28x28 pixels with a single grayscale channel ranging from 0 to 255.\n",
        "\n",
        "Data sets are typically split into\n",
        "[training, validation, and test sets](https://en.wikipedia.org/wiki/Training,_validation,_and_test_data_sets).\n",
        "The training set is used to adjust the weights in the model via\n",
        "gradient descent.\n",
        "The validation set is used during training to evaluate\n",
        "the progress of the training,\n",
        "and thus to\n",
        "[select the best model](https://en.wikipedia.org/wiki/Model_selection).\n",
        "The gradient is not computed when using the validation set,\n",
        "thus it does not take part in the gradient descent.\n",
        "The test set is used to evaluate\n",
        "the final results after training.\n",
        "The distinction between the\n",
        "validation and test set is that the validation set\n",
        "can be used to adjust hyperparameters (such as learning rate and model size),\n",
        "and to prevent overfitting, etc.,\n",
        "but the test set cannot be used except to evaluate the final results.\n",
        "\n",
        "You will be using 20,000 samples from the original training dataset for our next set of experiments,\n",
        "and the 10,000 sample test set.\n",
        "MNIST only splits into two sets, so we will use the test set as\n",
        "the validation set."
      ],
      "metadata": {
        "id": "38HrO_eBXjrh"
      }
    },
    {
      "cell_type": "markdown",
      "source": [
        "&#9660; Run the following cell to define some helper functions for loading the MNIST data."
      ],
      "metadata": {
        "id": "dU3af5u3vY2K"
      }
    },
    {
      "cell_type": "code",
      "source": [
        "# Loads and parses CSV file.\n",
        "# Each image is a row in the CSV file.  The first column is the label,\n",
        "# while the rest of the row is the image, stretched out.\n",
        "# Returns a 2-D array containing the images, and a 1-D array\n",
        "# with the labels.  In the image array,\n",
        "# each row is an image.  Pixel values are from 0 to 255.\n",
        "def mnist_data_parser_helper(csv_file_name):\n",
        "    X = []\n",
        "    Y = []\n",
        "    with open(csv_file_name,'r') as _file:\n",
        "        csv_reader = csv.reader(_file, delimiter=\",\")\n",
        "        for row in csv_reader:\n",
        "            Y.append(int(row[0])) # The label\n",
        "            X.append([int(i) for i in row[1:]]) # The image.\n",
        "    return (np.array(X, dtype='uint8'), np.array(Y, dtype='uint8'))\n",
        "\n",
        "def get_mnist_train_data():\n",
        "    X_train, Y_train = mnist_data_parser_helper(\"sample_data/mnist_train_small.csv\")\n",
        "    return X_train, Y_train\n",
        "\n",
        "def get_mnist_test_data():\n",
        "    X_test, Y_test = mnist_data_parser_helper(\"sample_data/mnist_test.csv\")\n",
        "    return X_test, Y_test"
      ],
      "metadata": {
        "id": "y6p9vHGhfBzg"
      },
      "execution_count": 8,
      "outputs": []
    },
    {
      "cell_type": "markdown",
      "source": [
        "&#9660; Run the following cell to visualize some samples from the MNIST dataset."
      ],
      "metadata": {
        "id": "nsEncnA3vh9-"
      }
    },
    {
      "cell_type": "code",
      "source": [
        "x_train, y_train = get_mnist_train_data()\n",
        "\n",
        "# Visualize some examples from the dataset.\n",
        "# We show a few examples of training images from each class.\n",
        "num_classes = 10\n",
        "samples_per_class = 7\n",
        "\n",
        "for cls in range(num_classes):\n",
        "    # Find the indices of all the digits that match cls.\n",
        "    idxs = np.flatnonzero(y_train == cls)\n",
        "    # Pick samples_per_class samples of those indices.\n",
        "    idxs = np.random.choice(idxs, samples_per_class, replace=False)\n",
        "    for i, idx in enumerate(idxs):\n",
        "        plt_idx = i*num_classes + cls + 1\n",
        "        plt.subplot(samples_per_class, num_classes, plt_idx)\n",
        "        plt.imshow(x_train[idx].reshape(28,28), cmap='gray')\n",
        "        plt.axis('off')\n",
        "        if i == 0:\n",
        "            plt.title(cls)\n",
        "\n",
        "plt.show()"
      ],
      "metadata": {
        "id": "21II-zCpe-ER",
        "colab": {
          "base_uri": "https://localhost:8080/",
          "height": 425
        },
        "outputId": "c455ff06-33e2-4bf2-8060-e14175a466e0"
      },
      "execution_count": 9,
      "outputs": [
        {
          "output_type": "display_data",
          "data": {
            "text/plain": [
              "<Figure size 640x480 with 70 Axes>"
            ],
            "image/png": "[encoded data removed]"
          },
          "metadata": {}
        }
      ]
    },
    {
      "cell_type": "markdown",
      "source": [
        "&#9660; Run the following cell to gather the training and testing dataset.\n"
      ],
      "metadata": {
        "id": "SLbwp3V-vxg_"
      }
    },
    {
      "cell_type": "code",
      "source": [
        "x_train, y_train = get_mnist_train_data()  # Get the training dataset\n",
        "x_test, y_test = get_mnist_test_data()     # Get the test dataset"
      ],
      "metadata": {
        "id": "ZY8RrHx4Fegk"
      },
      "execution_count": 10,
      "outputs": []
    },
    {
      "cell_type": "markdown",
      "source": [
        "&#9660; Run the following to normalize the input dataset to have a mean of 0 and standard deviation of 1."
      ],
      "metadata": {
        "id": "d4cTK2RDv5wL"
      }
    },
    {
      "cell_type": "code",
      "source": [
        "x_mean = x_train.mean()\n",
        "x_std = x_train.std()\n",
        "\n",
        "x_train = (x_train - x_mean)/(x_std)\n",
        "x_test = (x_test - x_mean)/(x_std)"
      ],
      "metadata": {
        "id": "n7RKsVNmfTx7"
      },
      "execution_count": 11,
      "outputs": []
    },
    {
      "cell_type": "markdown",
      "source": [
        "&#9660; Run the following cell to check the dimensions of the data."
      ],
      "metadata": {
        "id": "LfRlRMS9PTZ5"
      }
    },
    {
      "cell_type": "code",
      "source": [
        "N, dim = x_train.shape\n",
        "N_test, _ = x_test.shape\n",
        "print(f\"Number of training sample {N} with {dim} pixels per image\")\n",
        "print(f\"Number of training sample {N_test} with {dim} pixels per image\")"
      ],
      "metadata": {
        "id": "59jB-sjwQNVL",
        "colab": {
          "base_uri": "https://localhost:8080/"
        },
        "outputId": "d1fbeefe-8a13-400b-a745-f83a515a99b6"
      },
      "execution_count": 12,
      "outputs": [
        {
          "output_type": "stream",
          "name": "stdout",
          "text": [
            "Number of training sample 20000 with 784 pixels per image\n",
            "Number of training sample 10000 with 784 pixels per image\n"
          ]
        }
      ]
    },
    {
      "cell_type": "markdown",
      "source": [
        "&#9658; Put code in the following cell to split the `x_train` and `y_train` arrays to training and validations sets with an 80-20 split ratio. Place the split arrays in to the `DATA` dictionary. This dictionary will be used to feed data into the `Solver`."
      ],
      "metadata": {
        "id": "QEggmFxlkHYV"
      }
    },
    {
      "cell_type": "code",
      "source": [
        "# Perform training and validation dataset splits\n",
        "\n",
        "# PUT YOUR CODE BELOW\n",
        "\n",
        "# Avoiding Shuffling to keep outputs deterministic\n",
        "split_index = int(N*0.8)\n",
        "x_train_split = x_train[:split_index]\n",
        "y_train_split = y_train[:split_index]\n",
        "x_val_split = x_train[split_index:]\n",
        "y_val_split = y_train[split_index:]\n",
        "\n",
        "DATA = {\"X_train\": x_train_split,      # Replace with the value here\n",
        "        \"X_val\" : x_val_split,       # Replace with the value here\n",
        "        \"Y_train\" : y_train_split,     # Replace with the value here\n",
        "        \"Y_val\" : y_val_split}       # Replace with the value here\n"
      ],
      "metadata": {
        "id": "-ZUHh5UJkHYV"
      },
      "execution_count": 20,
      "outputs": []
    },
    {
      "cell_type": "markdown",
      "source": [
        "## 2.2 Implement and Evaluate ML Models\n",
        "\n",
        "We will follow a common organization for our code implementation.\n",
        "The `Solver` class is used to orchestrate the\n",
        "overall training steps,\n",
        "such as loading the data,\n",
        "doing the forward pass,\n",
        "computing the gradients with\n",
        "the backward pass,\n",
        "and updating the weights.\n",
        "The `Solver` class\n",
        "uses a *model*\n",
        "object which contains the actual weights,\n",
        "and implements the forward and backward passes.\n",
        "\n",
        "Note that we do not further randomize (shuffle) the datasets.\n",
        "We are pretty sure that they are already pre-shuffled."
      ],
      "metadata": {
        "id": "TDV7xaD_BkEX"
      }
    },
    {
      "cell_type": "markdown",
      "source": [
        "&#9660; Run the following cell to define the stochastic gradient descent algorithm that we will use to optimize our models."
      ],
      "metadata": {
        "id": "xXdYUcfTa78v"
      }
    },
    {
      "cell_type": "code",
      "source": [
        "def sgd(w, dw, lr=1e-2):\n",
        "    \"\"\"\n",
        "    Performs vanilla stochastic gradient descent.\n",
        "\n",
        "    config format:\n",
        "    - learning_rate: Scalar learning rate.\n",
        "    \"\"\"\n",
        "\n",
        "    w -= lr * dw\n",
        "    return w"
      ],
      "metadata": {
        "id": "elsI_qFOa8HB"
      },
      "execution_count": 22,
      "outputs": []
    },
    {
      "cell_type": "markdown",
      "source": [
        "&#9660; Run the following cell to define the `Solver` class."
      ],
      "metadata": {
        "id": "DyQdB2T4r9No"
      }
    },
    {
      "cell_type": "code",
      "source": [
        "class Solver(object):\n",
        "    \"\"\"\n",
        "    Solver class for the learnable models using\n",
        "    mini-batch gradient descent.\n",
        "    \"\"\"\n",
        "\n",
        "    def __init__(self,\n",
        "                 model,\n",
        "                 data,\n",
        "                 learning_rate=1e-3,\n",
        "                 num_epochs=50,\n",
        "                 batch_size=200,\n",
        "                 validation_frequency=16):\n",
        "        \"\"\"\n",
        "        Construct a new Solver instance.\n",
        "\n",
        "        Inputs:\n",
        "          model: Python class equiped with forward, backward, predict methods and a params dictionary\n",
        "          data: Dictionary with X_train, X_val,  Y_train, Y_val keys\n",
        "          learning_rate: Float, step size of the optimizer\n",
        "          num_epochs: Int, Number of times to completely traverse X_train\n",
        "          batch_size: Int, The number of samples in update\n",
        "          validation_frequency: Int, Solver performs validation loop every validation_frequency batches.\n",
        "                               Set this to a high number if num_epochs is large\n",
        "        \"\"\"\n",
        "        self.model = model\n",
        "\n",
        "        self.num_epochs = num_epochs\n",
        "        self.batch_size = batch_size\n",
        "        self.learning_rate = learning_rate\n",
        "        self.validation_frequency = validation_frequency\n",
        "\n",
        "        self.num_training = data[\"X_train\"].shape[0]\n",
        "        self.input_dim = data[\"X_train\"].shape[1]\n",
        "\n",
        "        # List of the index where each batch ends.\n",
        "        intervals = list(range(0, self.num_training, batch_size))[1:]\n",
        "\n",
        "        self.X_train = np.array_split(data[\"X_train\"], intervals, axis=0)\n",
        "        self.y_train = np.array_split(data[\"Y_train\"], intervals)\n",
        "\n",
        "        self.num_batches_in_training = len(self.X_train)\n",
        "\n",
        "        self.X_val = data[\"X_val\"]\n",
        "        self.y_val = data[\"Y_val\"]\n",
        "\n",
        "        self.update_rule = sgd\n",
        "        self.loss_history = []\n",
        "        self.validation_history = []\n",
        "\n",
        "        self.iteration_num = 0\n",
        "\n",
        "\n",
        "    def _step(self, batch_id):\n",
        "        \"\"\"\n",
        "        Make a single gradient update. This is called by train() and should not\n",
        "        be called manually.\n",
        "        \"\"\"\n",
        "        # Make a minibatch of training data\n",
        "        X_batch = self.X_train[batch_id]\n",
        "        y_batch = self.y_train[batch_id]\n",
        "\n",
        "        # Compute loss and gradient\n",
        "        score, cache = self.model.forward(X_batch)\n",
        "        loss, dL = self.model.loss(score, y_batch)\n",
        "        # dL is the upstream derivative to backward.\n",
        "        _, grads = self.model.backward(dL, cache)\n",
        "\n",
        "        self.loss_history.append(loss)\n",
        "\n",
        "        # Perform a parameter update\n",
        "        for p, w in self.model.params.items():\n",
        "            dw = grads[p]\n",
        "            next_w = self.update_rule(w, dw, self.learning_rate)\n",
        "            self.model.params[p] = next_w\n",
        "\n",
        "\n",
        "    def train(self):\n",
        "        \"\"\"\n",
        "        Optimization to train the model\n",
        "\n",
        "        \"\"\"\n",
        "\n",
        "        for epoch in range(self.num_epochs):\n",
        "            for batch_id in range(self.num_batches_in_training):\n",
        "\n",
        "                self._step(batch_id)\n",
        "\n",
        "                self.iteration_num += 1\n",
        "\n",
        "                if (self.iteration_num % self.validation_frequency == 0):\n",
        "                    self.validate()\n",
        "\n",
        "        self.validate()\n",
        "\n",
        "\n",
        "    def validate(self):\n",
        "        \"\"\"\n",
        "        Checks the validation error of the model at the time it is being called.\n",
        "\n",
        "        \"\"\"\n",
        "\n",
        "        N = self.y_val.shape[0]\n",
        "        predictions = self.model.predict(self.X_val)\n",
        "\n",
        "        accuracy = np.count_nonzero(predictions == self.y_val.astype(int))\n",
        "\n",
        "        print(f\"The validation accuracy at iteration {self.iteration_num}  is \\\n",
        "              {(float(accuracy)/N)*100}%\")"
      ],
      "metadata": {
        "id": "kQP6qra2bpOL"
      },
      "execution_count": 23,
      "outputs": []
    },
    {
      "cell_type": "markdown",
      "source": [
        "We will implement two different classifiers for the (MNIST) dataset.\n",
        "Each classifier will be a member of the implicit model\n",
        "class.\n",
        "(In this code we don't have an actual model class.)\n",
        "The models will both be linear,\n",
        "but will use different loss functions.\n",
        "The first will use the multiclass SVM loss,\n",
        "and the second will use the softmax  loss.\n",
        "\n",
        "The classifiers will be implemented using a common base class\n",
        "that implements training and prediction methods shared by the linear classifiers.\n",
        "Each of the two linear classifiers will be then derive\n",
        "from the base class,\n",
        "but override the loss function."
      ],
      "metadata": {
        "id": "vZfssCcKavEw"
      }
    },
    {
      "cell_type": "markdown",
      "source": [
        "&#9658;\n",
        "In the following cell,\n",
        "complete the definition of the `LinearClassifier` class\n",
        "by implementing the `__init__()`, `forward()`, `backward()`, and `predict()` methods.\n",
        "\n",
        "- The `__init__()` method initializes the class. You must generate a random weight matrix of shape `(input_dim+1, num_classes)`  \n",
        "- The `forward()` method generates the scores for given an input sample, by applying a `linear_forward()` transformation on the inputs `x` and weights matrix `self.params['W1']`\n",
        "- The `backward()` method returns the gradients with respect to the inputs and weights, using the `linear_backward()` method.\n",
        "Make sure the key for the returned dictionary `weights_gradient` matches the `self.params` dictionary.\n",
        "- The `predict()` method returns the labels predicted from the scores returned using the `self.forward()` method."
      ],
      "metadata": {
        "id": "y4b6y_Oj1qr8"
      }
    },
    {
      "cell_type": "code",
      "source": [
        "class LinearClassifier(object):\n",
        "    \"\"\"\n",
        "    The base class for the linear classifier.\n",
        "\n",
        "    Note that this class does not implement gradient descent; instead, it\n",
        "    is directed by a separate Solver object that is responsible for optimization.\n",
        "\n",
        "    The learnable parameters of the model are stored in the dictionary\n",
        "    self.params that maps parameter names to numpy arrays.\n",
        "    \"\"\"\n",
        "\n",
        "    def __init__(self,\n",
        "                 input_dim=784,\n",
        "                 num_classes=10):\n",
        "        self.params = {}\n",
        "        self.input_features = input_dim\n",
        "        self.num_classes = 10\n",
        "\n",
        "        # PUT YOUR CODE BELOW:\n",
        "        # Initialize the weights of the linear classifier. Weights should be\n",
        "        # initialized from a Gaussian centered at 0.0 with standard deviation\n",
        "        # equal to 1e-3, and biases should be initialized to zero.\n",
        "        # Store in the self.params dictionary with key name 'W1'\n",
        "\n",
        "        # The lines below do not need to be changed in the method\n",
        "\n",
        "        W = np.random.normal(0, 1e-3, (input_dim+1, num_classes))\n",
        "        self.params['W1'] = W\n",
        "\n",
        "\n",
        "    def forward(self, x):\n",
        "        \"\"\"\n",
        "        Train this linear classifier using stochastic gradient descent.\n",
        "\n",
        "        Inputs:\n",
        "        - x: A numpy array of shape (N, D) containing training data; there are N\n",
        "          training samples each of dimension D.\n",
        "\n",
        "        Outputs:\n",
        "        A list containing the value of the loss function at each training iteration.\n",
        "        \"\"\"\n",
        "        num_train, dim = x.shape\n",
        "        num_classes = self.num_classes\n",
        "        out = None\n",
        "        cache = None\n",
        "\n",
        "        # PUT YOUR CODE BELOW:\n",
        "        # Implement this method. Generate the scores in out and store the old\n",
        "        # values into the cache.\n",
        "\n",
        "        out, cache = linear_forward(x, self.params['W1'])\n",
        "\n",
        "        # The lines below do not need to be changed\n",
        "\n",
        "\n",
        "        return out, (cache, )\n",
        "\n",
        "    def backward(self, dout, cache):\n",
        "        weight_gradients = {}\n",
        "        dx = None\n",
        "\n",
        "        # PUT YOUR CODE BELOW:\n",
        "        # Implement this method. Generate the gradients with respect to x from\n",
        "        # cache and set it dx, the upstream error signal.\n",
        "        # Store the gradient with respect to the weights in the weights_gradients\n",
        "        # dictionary. Make sure the key matches the ket of the params dictionary\n",
        "        cache = cache[0]\n",
        "        dx, weight_gradients['W1'] = linear_backward(dout, cache)\n",
        "\n",
        "        # The lines below do not need to be changed\n",
        "\n",
        "        return (dx, weight_gradients)\n",
        "\n",
        "    def predict(self, x):\n",
        "        \"\"\"\n",
        "        Use the trained weights of this linear classifier to predict labels for\n",
        "        data points.\n",
        "\n",
        "        Inputs:\n",
        "        - x: A numpy array of shape (N, D) containing training data; there are N\n",
        "          training samples each of dimension D.\n",
        "\n",
        "        Returns:\n",
        "        - y_pred: Predicted labels for the data in X. y_pred is a 1-dimensional\n",
        "          array of length N, and each element is an integer giving the predicted\n",
        "          class.\n",
        "        \"\"\"\n",
        "        y_pred = np.zeros(x.shape[0])\n",
        "\n",
        "        # PUT YOUR CODE BELOW:\n",
        "        # Implement this method. Store the predicted labels in y_pred.\n",
        "\n",
        "        scores, _ = self.forward(x)\n",
        "        y_pred = np.argmax(scores, axis=1)\n",
        "\n",
        "        # The lines below do not need to be changed\n",
        "\n",
        "        return y_pred\n",
        "\n",
        "\n",
        "    def loss(self, scores, y_batch):\n",
        "        \"\"\"\n",
        "        Compute the loss function and its derivative.\n",
        "        Subclasses will override this.\n",
        "\n",
        "        Inputs:\n",
        "        - scores: A numpy array of shape (N, C) containing a minibatch of N\n",
        "          data points; each point has dimension C, where C is the number of classes.\n",
        "        - y_batch: A numpy array of shape (N,) containing labels for the minibatch.\n",
        "        - reg: (float) regularization strength.\n",
        "\n",
        "        Returns: A tuple containing:\n",
        "        - loss as a single float\n",
        "        - gradient with respect to scores; an array of the same shape as scores\n",
        "        \"\"\"\n",
        "        # The lines below do not need to be changed\n",
        "        # Do not implement anything here. The subclasses will override this method\n",
        "        pass"
      ],
      "metadata": {
        "id": "oLgT_g66T71G"
      },
      "execution_count": 24,
      "outputs": []
    },
    {
      "cell_type": "markdown",
      "source": [
        "### 2.2.1 Support Vector Machine\n",
        "\n",
        "The `LinearSVM` class defines an SVM-based linear classifier.\n",
        "The classifier uses the multiclass hinge loss to optimize the model parameters.\n",
        "The multiclass hinge loss for an input sample $x$ (a vector) is given by:\n",
        "\n",
        "$$\n",
        "L = \\sum_{j \\neq y_i} \\text{max}(0, s_{ij}-s_{iy_i}+1)\n",
        "$$\n",
        "\n",
        "\n",
        "Where, $y_i$ is the label of the $i$-th sample.  The label is the correct class label where $0 \\leq y_i \\lt C$, where C is the number of classes. The scalar $s_{iy_i}$ is the $y_i$-th element of the $i$-th score vector. The loss over a set of samples is taken by simply averaging the losses of the samples.  \n",
        "\n",
        "\n",
        "The per-sample gradient of the loss w.r.t. the score $s_{ij}$ is given by:\n",
        "\n",
        "$$\n",
        "\\frac{\\partial  L_i}{\\partial s_{ij}} = \\left \\{\n",
        "\\begin{array}{ll}\n",
        "0 & s_{ij}-s_{iy_i}+1 \\leq 0    \\\\\n",
        "1 & j \\neq s_{y_i} \\text{ and } s_{ij}-s_{iy_i}+1 > 0 \\\\\n",
        "-\\sum_{k \\neq j}\\frac{\\partial L_i}{\\partial s_{ik}} & j = s_{y_i}\n",
        "\\end{array}\n",
        "\\right.\n",
        "$$\n",
        "\n",
        "\n",
        "**Implement** the `svm_loss` function in the following cell. Store the average loss the `loss` variable and the gradient w.r.t `scores` in the `dy` variable. This is the loss over multiple samples, therefor you should take the mean of the loss.\n"
      ],
      "metadata": {
        "id": "rS6qcaqUcyqF"
      }
    },
    {
      "cell_type": "markdown",
      "source": [
        "&#9658; Implement the `svm_loss(scores, y_batch)` function in the following cell.\n",
        "Store the average loss the `loss` variable and the gradient w.r.t `scores` in the `dy` variable.\n",
        "This is the loss over multiple samples, therefore you should take the mean of the loss."
      ],
      "metadata": {
        "id": "fVJxsGOYTgxI"
      }
    },
    {
      "cell_type": "code",
      "source": [
        "def svm_loss(scores, y_batch):\n",
        "    \"\"\"\n",
        "    Returns hinge loss of the scores and y_batch.\n",
        "\n",
        "    Inputs:\n",
        "    - scores: A numpy array of shape (N, C) containing a minibatch of N\n",
        "      data points; each point has dimension C, where C is the number of classes.\n",
        "    - y_batch: A numpy array of shape (N,) containing labels for the minibatch.\n",
        "    - reg: (float) regularization strength.\n",
        "\n",
        "    Returns: A tuple containing:\n",
        "    - loss as a single float\n",
        "    - gradient with respect to scores; an array of the same shape as scores\n",
        "    \"\"\"\n",
        "    loss = 0\n",
        "    dy = np.zeros(scores.shape)\n",
        "    # PUT YOUR CODE BELOW:\n",
        "    # Implement the structured SVM loss, storing the\n",
        "    # result in loss. Make sure to take the mean of the loss.\n",
        "    # Hint: The intermediate results maybe useful for the gradient calculation\n",
        "\n",
        "    N, C = scores.shape\n",
        "    true_score = scores[np.arange(N), y_batch].reshape(N, 1)\n",
        "    scores_diff = scores - true_score + 1\n",
        "    scores_diff[np.arange(N), y_batch] = 0\n",
        "\n",
        "    # PUT YOUR CODE BELOW:\n",
        "    # Implement the gradient for the SVM loss, storing the result\n",
        "    # in dy.\n",
        "    #\n",
        "    # Hint: Instead of computing the gradient from scratch, it may be easier\n",
        "    # to reuse some of the intermediate values that you used to compute the\n",
        "    # loss.\n",
        "\n",
        "    loss = np.sum(np.maximum(0, scores_diff))/N\n",
        "    dy = (scores_diff > 0).astype(int)\n",
        "    dy[np.arange(N), y_batch] = -np.sum(dy, axis=1)\n",
        "\n",
        "    # The lines below do not need to be changed.\n",
        "    return loss, dy"
      ],
      "metadata": {
        "id": "S-_mC08N89UC"
      },
      "execution_count": 25,
      "outputs": []
    },
    {
      "cell_type": "markdown",
      "source": [
        "&#9660; Run the following cell to define the `LinearSVM` class with your implementation of the `svm_loss`"
      ],
      "metadata": {
        "id": "MMaObHBhamT6"
      }
    },
    {
      "cell_type": "code",
      "source": [
        "class LinearSVM(LinearClassifier):\n",
        "    \"\"\" A subclass that uses the Multiclass SVM loss function \"\"\"\n",
        "\n",
        "    def loss(self, scores, y_batch):\n",
        "        return svm_loss(scores, y_batch)"
      ],
      "metadata": {
        "id": "VD43ltPTcw-B"
      },
      "execution_count": 26,
      "outputs": []
    },
    {
      "cell_type": "markdown",
      "source": [
        "#### 2.2.1.1 SVM Experiments\n",
        "\n",
        "In the next few cells run the `Solver` with SVM models on the training and validation data you've defined previously. Use the `DATA` dictionary you defined previously as the data parameter.\n",
        "\n",
        "As you have seen with previous assignments, optimizations can be highly dependent on the hyperparameters of the model. You should try multiple models with different learning rates. You may also increase the amount of time you train by increasing the number of epochs.\n",
        "\n",
        "Keep the top 5 best performing models and the worst performing model on the validation set."
      ],
      "metadata": {
        "id": "DNPZ7RoU2Oyv"
      }
    },
    {
      "cell_type": "markdown",
      "source": [
        "&#9658; Implement hyperparameter validation loop in the next cell to train multiple models with different hyperparameters.\n",
        "Keep the top 5 best performing models on the validation set.\n",
        "You can try different learning rates.\n",
        "You may change the num_epochs, but be wary of timeouts."
      ],
      "metadata": {
        "id": "DD7et1xEF9h6"
      }
    },
    {
      "cell_type": "code",
      "source": [
        "# defining different learning rates\n",
        "learning_rates = [1e-4, 5e-4, 1e-3, 5e-3, 1e-2]\n",
        "# defining the number of epochs\n",
        "num_epochs = [5, 10, 20]\n",
        "# defining the batch size\n",
        "batch_size = 200\n",
        "\n",
        "validation_frequency = 100\n",
        "\n",
        "# Store results and the models\n",
        "results = []\n",
        "models = []\n",
        "\n",
        "for lr in learning_rates:\n",
        "    for epochs in num_epochs:\n",
        "        print(f\"Training model with learning rate={lr}, epochs={epochs}\")\n",
        "        # Instantiating the model\n",
        "        model = LinearSVM(input_dim=DATA[\"X_train\"].shape[1], num_classes=10)\n",
        "        # Instantiating the solver class that takes all the hyperparameters\n",
        "        solver = Solver(\n",
        "            model,\n",
        "            DATA,\n",
        "            learning_rate=lr,\n",
        "            num_epochs=epochs,\n",
        "            batch_size=batch_size,\n",
        "            validation_frequency=validation_frequency\n",
        "        )\n",
        "        # Training the model\n",
        "        solver.train()\n",
        "\n",
        "        # Evaluating on the validation set\n",
        "        val_predictions = model.predict(DATA[\"X_val\"])\n",
        "        val_accuracy = np.mean(val_predictions == DATA[\"Y_val\"])\n",
        "        print(f\"Validation accuracy: {val_accuracy * 100:.2f}%\\n\")\n",
        "\n",
        "        # Store the results\n",
        "        results.append((val_accuracy, model, lr, epochs))"
      ],
      "metadata": {
        "id": "US364cOjGC5p",
        "colab": {
          "base_uri": "https://localhost:8080/"
        },
        "outputId": "e0456c15-8f0d-414b-ee1d-7800fbd78daa"
      },
      "execution_count": 31,
      "outputs": [
        {
          "output_type": "stream",
          "name": "stdout",
          "text": [
            "Training model with learning rate=0.0001, epochs=5\n",
            "The validation accuracy at iteration 100  is               88.425%\n",
            "The validation accuracy at iteration 200  is               89.85%\n",
            "The validation accuracy at iteration 300  is               90.45%\n",
            "The validation accuracy at iteration 400  is               90.875%\n",
            "The validation accuracy at iteration 400  is               90.875%\n",
            "Validation accuracy: 90.88%\n",
            "\n",
            "Training model with learning rate=0.0001, epochs=10\n",
            "The validation accuracy at iteration 100  is               88.52499999999999%\n",
            "The validation accuracy at iteration 200  is               89.925%\n",
            "The validation accuracy at iteration 300  is               90.225%\n",
            "The validation accuracy at iteration 400  is               90.55%\n",
            "The validation accuracy at iteration 500  is               90.075%\n",
            "The validation accuracy at iteration 600  is               90.4%\n",
            "The validation accuracy at iteration 700  is               90.55%\n",
            "The validation accuracy at iteration 800  is               90.8%\n",
            "The validation accuracy at iteration 800  is               90.8%\n",
            "Validation accuracy: 90.80%\n",
            "\n",
            "Training model with learning rate=0.0001, epochs=20\n",
            "The validation accuracy at iteration 100  is               88.425%\n",
            "The validation accuracy at iteration 200  is               89.875%\n",
            "The validation accuracy at iteration 300  is               90.25%\n",
            "The validation accuracy at iteration 400  is               90.625%\n",
            "The validation accuracy at iteration 500  is               90.075%\n",
            "The validation accuracy at iteration 600  is               90.325%\n",
            "The validation accuracy at iteration 700  is               90.625%\n",
            "The validation accuracy at iteration 800  is               90.675%\n",
            "The validation accuracy at iteration 900  is               90.3%\n",
            "The validation accuracy at iteration 1000  is               90.47500000000001%\n",
            "The validation accuracy at iteration 1100  is               90.9%\n",
            "The validation accuracy at iteration 1200  is               90.7%\n",
            "The validation accuracy at iteration 1300  is               90.25%\n",
            "The validation accuracy at iteration 1400  is               90.45%\n",
            "The validation accuracy at iteration 1500  is               90.5%\n",
            "The validation accuracy at iteration 1600  is               90.675%\n",
            "The validation accuracy at iteration 1600  is               90.675%\n",
            "Validation accuracy: 90.67%\n",
            "\n",
            "Training model with learning rate=0.0005, epochs=5\n",
            "The validation accuracy at iteration 100  is               84.975%\n",
            "The validation accuracy at iteration 200  is               88.775%\n",
            "The validation accuracy at iteration 300  is               89.25%\n",
            "The validation accuracy at iteration 400  is               89.55%\n",
            "The validation accuracy at iteration 400  is               89.55%\n",
            "Validation accuracy: 89.55%\n",
            "\n",
            "Training model with learning rate=0.0005, epochs=10\n",
            "The validation accuracy at iteration 100  is               84.625%\n",
            "The validation accuracy at iteration 200  is               89.1%\n",
            "The validation accuracy at iteration 300  is               88.425%\n",
            "The validation accuracy at iteration 400  is               88.225%\n",
            "The validation accuracy at iteration 500  is               83.05%\n",
            "The validation accuracy at iteration 600  is               88.875%\n",
            "The validation accuracy at iteration 700  is               89.55%\n",
            "The validation accuracy at iteration 800  is               88.875%\n",
            "The validation accuracy at iteration 800  is               88.875%\n",
            "Validation accuracy: 88.88%\n",
            "\n",
            "Training model with learning rate=0.0005, epochs=20\n",
            "The validation accuracy at iteration 100  is               84.75%\n",
            "The validation accuracy at iteration 200  is               89.5%\n",
            "The validation accuracy at iteration 300  is               89.3%\n",
            "The validation accuracy at iteration 400  is               88.7%\n",
            "The validation accuracy at iteration 500  is               87.52499999999999%\n",
            "The validation accuracy at iteration 600  is               89.725%\n",
            "The validation accuracy at iteration 700  is               89.8%\n",
            "The validation accuracy at iteration 800  is               89.775%\n",
            "The validation accuracy at iteration 900  is               87.175%\n",
            "The validation accuracy at iteration 1000  is               88.375%\n",
            "The validation accuracy at iteration 1100  is               89.47500000000001%\n",
            "The validation accuracy at iteration 1200  is               88.8%\n",
            "The validation accuracy at iteration 1300  is               88.875%\n",
            "The validation accuracy at iteration 1400  is               88.9%\n",
            "The validation accuracy at iteration 1500  is               89.4%\n",
            "The validation accuracy at iteration 1600  is               87.47500000000001%\n",
            "The validation accuracy at iteration 1600  is               87.47500000000001%\n",
            "Validation accuracy: 87.48%\n",
            "\n",
            "Training model with learning rate=0.001, epochs=5\n",
            "The validation accuracy at iteration 100  is               87.375%\n",
            "The validation accuracy at iteration 200  is               89.64999999999999%\n",
            "The validation accuracy at iteration 300  is               88.625%\n",
            "The validation accuracy at iteration 400  is               89.375%\n",
            "The validation accuracy at iteration 400  is               89.375%\n",
            "Validation accuracy: 89.38%\n",
            "\n",
            "Training model with learning rate=0.001, epochs=10\n",
            "The validation accuracy at iteration 100  is               87.75%\n",
            "The validation accuracy at iteration 200  is               89.525%\n",
            "The validation accuracy at iteration 300  is               88.02499999999999%\n",
            "The validation accuracy at iteration 400  is               89.775%\n",
            "The validation accuracy at iteration 500  is               88.3%\n",
            "The validation accuracy at iteration 600  is               88.35%\n",
            "The validation accuracy at iteration 700  is               88.35%\n",
            "The validation accuracy at iteration 800  is               89.325%\n",
            "The validation accuracy at iteration 800  is               89.325%\n",
            "Validation accuracy: 89.33%\n",
            "\n",
            "Training model with learning rate=0.001, epochs=20\n",
            "The validation accuracy at iteration 100  is               87.175%\n",
            "The validation accuracy at iteration 200  is               88.8%\n",
            "The validation accuracy at iteration 300  is               87.875%\n",
            "The validation accuracy at iteration 400  is               89.0%\n",
            "The validation accuracy at iteration 500  is               85.55%\n",
            "The validation accuracy at iteration 600  is               89.67500000000001%\n",
            "The validation accuracy at iteration 700  is               88.7%\n",
            "The validation accuracy at iteration 800  is               88.7%\n",
            "The validation accuracy at iteration 900  is               88.52499999999999%\n",
            "The validation accuracy at iteration 1000  is               88.875%\n",
            "The validation accuracy at iteration 1100  is               89.9%\n",
            "The validation accuracy at iteration 1200  is               87.0%\n",
            "The validation accuracy at iteration 1300  is               88.125%\n",
            "The validation accuracy at iteration 1400  is               88.85%\n",
            "The validation accuracy at iteration 1500  is               87.4%\n",
            "The validation accuracy at iteration 1600  is               88.625%\n",
            "The validation accuracy at iteration 1600  is               88.625%\n",
            "Validation accuracy: 88.62%\n",
            "\n",
            "Training model with learning rate=0.005, epochs=5\n",
            "The validation accuracy at iteration 100  is               87.875%\n",
            "The validation accuracy at iteration 200  is               88.97500000000001%\n",
            "The validation accuracy at iteration 300  is               88.325%\n",
            "The validation accuracy at iteration 400  is               86.47500000000001%\n",
            "The validation accuracy at iteration 400  is               86.47500000000001%\n",
            "Validation accuracy: 86.48%\n",
            "\n",
            "Training model with learning rate=0.005, epochs=10\n",
            "The validation accuracy at iteration 100  is               86.8%\n",
            "The validation accuracy at iteration 200  is               89.5%\n",
            "The validation accuracy at iteration 300  is               88.675%\n",
            "The validation accuracy at iteration 400  is               88.625%\n",
            "The validation accuracy at iteration 500  is               88.6%\n",
            "The validation accuracy at iteration 600  is               88.4%\n",
            "The validation accuracy at iteration 700  is               88.875%\n",
            "The validation accuracy at iteration 800  is               87.925%\n",
            "The validation accuracy at iteration 800  is               87.925%\n",
            "Validation accuracy: 87.92%\n",
            "\n",
            "Training model with learning rate=0.005, epochs=20\n",
            "The validation accuracy at iteration 100  is               87.0%\n",
            "The validation accuracy at iteration 200  is               89.275%\n",
            "The validation accuracy at iteration 300  is               88.075%\n",
            "The validation accuracy at iteration 400  is               88.52499999999999%\n",
            "The validation accuracy at iteration 500  is               89.075%\n",
            "The validation accuracy at iteration 600  is               88.875%\n",
            "The validation accuracy at iteration 700  is               88.85%\n",
            "The validation accuracy at iteration 800  is               89.125%\n",
            "The validation accuracy at iteration 900  is               88.75%\n",
            "The validation accuracy at iteration 1000  is               87.725%\n",
            "The validation accuracy at iteration 1100  is               87.275%\n",
            "The validation accuracy at iteration 1200  is               87.35000000000001%\n",
            "The validation accuracy at iteration 1300  is               79.80000000000001%\n",
            "The validation accuracy at iteration 1400  is               88.825%\n",
            "The validation accuracy at iteration 1500  is               87.725%\n",
            "The validation accuracy at iteration 1600  is               89.075%\n",
            "The validation accuracy at iteration 1600  is               89.075%\n",
            "Validation accuracy: 89.08%\n",
            "\n",
            "Training model with learning rate=0.01, epochs=5\n",
            "The validation accuracy at iteration 100  is               88.225%\n",
            "The validation accuracy at iteration 200  is               88.6%\n",
            "The validation accuracy at iteration 300  is               88.2%\n",
            "The validation accuracy at iteration 400  is               88.575%\n",
            "The validation accuracy at iteration 400  is               88.575%\n",
            "Validation accuracy: 88.58%\n",
            "\n",
            "Training model with learning rate=0.01, epochs=10\n",
            "The validation accuracy at iteration 100  is               86.6%\n",
            "The validation accuracy at iteration 200  is               88.1%\n",
            "The validation accuracy at iteration 300  is               88.05%\n",
            "The validation accuracy at iteration 400  is               89.1%\n",
            "The validation accuracy at iteration 500  is               88.9%\n",
            "The validation accuracy at iteration 600  is               88.8%\n",
            "The validation accuracy at iteration 700  is               89.1%\n",
            "The validation accuracy at iteration 800  is               89.025%\n",
            "The validation accuracy at iteration 800  is               89.025%\n",
            "Validation accuracy: 89.03%\n",
            "\n",
            "Training model with learning rate=0.01, epochs=20\n",
            "The validation accuracy at iteration 100  is               87.64999999999999%\n",
            "The validation accuracy at iteration 200  is               80.75%\n",
            "The validation accuracy at iteration 300  is               70.15%\n",
            "The validation accuracy at iteration 400  is               87.7%\n",
            "The validation accuracy at iteration 500  is               88.64999999999999%\n",
            "The validation accuracy at iteration 600  is               88.175%\n",
            "The validation accuracy at iteration 700  is               82.575%\n",
            "The validation accuracy at iteration 800  is               89.14999999999999%\n",
            "The validation accuracy at iteration 900  is               79.125%\n",
            "The validation accuracy at iteration 1000  is               89.025%\n",
            "The validation accuracy at iteration 1100  is               87.94999999999999%\n",
            "The validation accuracy at iteration 1200  is               89.25%\n",
            "The validation accuracy at iteration 1300  is               87.45%\n",
            "The validation accuracy at iteration 1400  is               88.075%\n",
            "The validation accuracy at iteration 1500  is               87.875%\n",
            "The validation accuracy at iteration 1600  is               88.6%\n",
            "The validation accuracy at iteration 1600  is               88.6%\n",
            "Validation accuracy: 88.60%\n",
            "\n"
          ]
        }
      ]
    },
    {
      "cell_type": "markdown",
      "source": [
        "&#9658; Implement the testing performance of your top 5 performing models on the test set and print the results."
      ],
      "metadata": {
        "id": "Dl4R1tyz4VpS"
      }
    },
    {
      "cell_type": "code",
      "source": [
        "# Sort results by validation accuracy in descending order\n",
        "results.sort(key=lambda x: x[0], reverse=True)\n",
        "\n",
        "# Keep the top 5 models\n",
        "top_5_results = results[:5]\n",
        "print(\"Top 5 models:\")\n",
        "\n",
        "for idx, (val_accuracy, model, lr, epochs) in enumerate(top_5_results):\n",
        "    test_predictions = model.predict(x_test)\n",
        "    test_accuracy = np.mean(test_predictions == y_test)\n",
        "    print(f\"Model {idx+1}:\")\n",
        "    print(f\"Learning rate: {lr}, Epochs: {epochs}\")\n",
        "    print(f\"Validation accuracy: {val_accuracy * 100:.2f}%\")\n",
        "    print(f\"Test accuracy: {test_accuracy * 100:.2f}%\\n\")"
      ],
      "metadata": {
        "id": "71qBuIr75ArL",
        "colab": {
          "base_uri": "https://localhost:8080/"
        },
        "outputId": "c9018317-cf2b-4451-e1e6-6e71eae1e1cc"
      },
      "execution_count": 33,
      "outputs": [
        {
          "output_type": "stream",
          "name": "stdout",
          "text": [
            "Top 5 models:\n",
            "Model 1:\n",
            "Learning rate: 0.0001, Epochs: 5\n",
            "Validation accuracy: 90.88%\n",
            "Test accuracy: 90.80%\n",
            "\n",
            "Model 2:\n",
            "Learning rate: 0.0001, Epochs: 10\n",
            "Validation accuracy: 90.80%\n",
            "Test accuracy: 90.87%\n",
            "\n",
            "Model 3:\n",
            "Learning rate: 0.0001, Epochs: 20\n",
            "Validation accuracy: 90.67%\n",
            "Test accuracy: 90.75%\n",
            "\n",
            "Model 4:\n",
            "Learning rate: 0.0005, Epochs: 5\n",
            "Validation accuracy: 89.55%\n",
            "Test accuracy: 89.74%\n",
            "\n",
            "Model 5:\n",
            "Learning rate: 0.001, Epochs: 5\n",
            "Validation accuracy: 89.38%\n",
            "Test accuracy: 89.85%\n",
            "\n"
          ]
        }
      ]
    },
    {
      "cell_type": "markdown",
      "source": [
        "&#9658; Implement the next cell to visualize the weights corresponding to each sample in the *best* performing SVM models. You should have ten 28x28 images.\n",
        "\n",
        "Make sure to rescale the  weights to be between 0 and 255.\n",
        "\n",
        "Depending on your learning rate and weights, it might not look so great. If all the images look the same but you have good accuracy, try subtracting the average of weights from weights of each class.\n",
        "\n",
        "You can add additional cells below."
      ],
      "metadata": {
        "id": "srNp8XPEbVAt"
      }
    },
    {
      "cell_type": "code",
      "source": [
        "best_model = top_5_results[0][1]  # Get the best model\n",
        "weights = best_model.params['W1']  # Shape: (input_dim + 1, num_classes)\n",
        "\n",
        "# Exclude bias term\n",
        "weights_no_bias = weights[:-1, :]  # Shape: (input_dim, num_classes)\n",
        "\n",
        "# Reshape weights for visualization\n",
        "for i in range(10):  # For each class\n",
        "    w = weights_no_bias[:, i]  # Shape: (input_dim,)\n",
        "    w = w.reshape(28, 28)  # Reshape to 28x28\n",
        "    # Normalize weights to [0, 255]\n",
        "    w_min, w_max = w.min(), w.max()\n",
        "    w_normalized = 255 * (w - w_min) / (w_max - w_min)\n",
        "    w_normalized = w_normalized.astype(np.uint8)\n",
        "    plt.subplot(2, 5, i+1)\n",
        "    plt.imshow(w_normalized, cmap='gray')\n",
        "    plt.axis('off')\n",
        "    plt.title(f\"Class {i}\")\n",
        "plt.show()"
      ],
      "metadata": {
        "id": "hVDxnLZCbVQ8",
        "colab": {
          "base_uri": "https://localhost:8080/",
          "height": 346
        },
        "outputId": "c7f5871a-2936-4e2f-bead-e93aa2d7032c"
      },
      "execution_count": 34,
      "outputs": [
        {
          "output_type": "display_data",
          "data": {
            "text/plain": [
              "<Figure size 640x480 with 10 Axes>"
            ],
            "image/png": "[encoded data removed]"
          },
          "metadata": {}
        }
      ]
    },
    {
      "cell_type": "markdown",
      "source": [
        "### 2.2.2 Cross-Entropy Loss\n",
        "\n",
        "The `CrossEntropy` class defines the cross-entropy loss for training and prediction methods like the previous the linear classifiers.\n",
        "Because the cross-entropy is defined on probability distributions,\n",
        "the softmax function is usually applied to the output of a linear\n",
        "classifier to transform the raw scores into values that can be interpreted as probabilities.\n",
        "(Though, be cautious about actually using them as such.)\n",
        "However,\n",
        "we commonly refer to it just as the cross-entropy loss,\n",
        "with the implicit understanding that for deep learning,\n",
        "the cross-entropy is not computed on the raw scores,\n",
        "but rather the softmax of the raw scores.\n",
        "\n",
        "For a score vector $s$, the softmax activation of the $j$-th element is given by,\n",
        "\n",
        "$$\n",
        "\\sigma_j = \\frac{e^{s_{j}}}{\\sum^{M}_{k=1}e^{s_k}}\n",
        "$$\n",
        "\n",
        "A simple implementation of the softmax function can result in overflow.\n",
        "See\n",
        "[here](https://eli.thegreenplace.net/2016/the-softmax-function-and-its-derivative/#:~:text=Computing%20softmax%20and%20numerical%20stability)\n",
        "for how to avoid this problem.\n",
        "\n",
        "The cross-entropy is a measure of the difference between two probability distributions.\n",
        "In the general case,\n",
        "the cross-entropy $H$ between the true probability distribution $P$ and the estimated probability distribution $Q$ is given by:\n",
        "\n",
        "$$\n",
        "H(P, Q)=-\\sum_{x \\in \\mathcal{X}} P(x) \\log Q(x)\n",
        "$$\n",
        "\n",
        "where $\\mathcal{X}$ is the event space.\n",
        "It is a measure of how \"far off\" our estimated distribution $Q$ is from $P$.\n",
        "(Note that because $P$ and $Q$ are actually functions,\n",
        "$H$ in this case is a function operating on functions, also known as an *operator*.)\n",
        "\n",
        "In our case,\n",
        "$P$ is zero except for the correct label,\n",
        "and thus the cross-entropy reduces to simply the negative logarithm of the score corresponding to the correct class,\n",
        "which is just\n",
        "\n",
        "$$\n",
        "L_i = -\\log(\\sigma_{y_i}))\n",
        "$$\n",
        "\n",
        "where $y_i$ is the correct label of the $x_i$ input sample,\n",
        "and $\\sigma_{y_i}$ is the softmax output of the corresponding correct label. $L$ is then just the average over the $L_i$.\n",
        "\n",
        "The derivative of the softmax is given by\n",
        "\n",
        "$$\n",
        "\\frac{\\partial\\sigma_i}{\\partial s_j} = \\left \\{\n",
        "\\begin{array}{ll}\n",
        "\\sigma_i(1 - \\sigma_{j}) & i = j     \\\\\n",
        "-\\sigma_i\\sigma_j & i \\neq j  \\\\\n",
        "\\end{array}\n",
        "\\right. .\n",
        "$$\n",
        "\n",
        "Details on the derivation can be found [here](https://eli.thegreenplace.net/2016/the-softmax-function-and-its-derivative/).\n",
        "\n",
        "The derivative of the negative logarithm is given by\n",
        "\n",
        "$$\n",
        "\\frac{\\partial (-\\log)}{\\partial \\sigma_{y_i}} = -\\frac{1}{\\sigma_{y_i}}.\n",
        "$$"
      ],
      "metadata": {
        "id": "nhA92akOczjV"
      }
    },
    {
      "cell_type": "markdown",
      "source": [
        "&#9658; Implement the `cross_entropy_loss(scores, y_batch)` function in the following cell,\n",
        "consisting of the softmax followed by cross-entropy,\n",
        "as explained above.\n",
        "The function returns a tuple of `(loss, dy)` where\n",
        "`loss` is the cross-entropy loss based on the inputs\n",
        "and `dy` is the gradient of the loss with respect to the `scores` input.\n",
        "This is the loss over multiple samples,\n",
        "therefore you should take the mean of the loss."
      ],
      "metadata": {
        "id": "XJDqbXH4yxZk"
      }
    },
    {
      "cell_type": "code",
      "source": [
        "def cross_entropy_loss(scores, y_batch):\n",
        "    \"\"\"\n",
        "    Computes the cross-entropy layer\n",
        "\n",
        "    Inputs:\n",
        "    - scores: A numpy array containing the scores, of shape (N, C)\n",
        "    - y_batch: A numpy array containing the labels, of shape (N, 1)\n",
        "\n",
        "    Returns: A tuple containing:\n",
        "    - loss as a single float\n",
        "    - gradient with respect to scores; an array of the same shape as scores\n",
        "    \"\"\"\n",
        "\n",
        "    loss = 0\n",
        "    dy = np.zeros(scores.shape)\n",
        "\n",
        "    # PUT YOUR CODE BELOW:\n",
        "    # Implement the cross-entropy loss, storing the\n",
        "    # result in loss. Make sure to take the mean of the loss.\n",
        "    # Hint: The intermediate results maybe useful for the gradient calculation\n",
        "\n",
        "    normalised_scores = scores - np.max(scores, axis=1, keepdims=True)\n",
        "    exp_scores = np.exp(normalised_scores)\n",
        "    probs = exp_scores / np.sum(exp_scores, axis=1, keepdims=True)\n",
        "\n",
        "    N, _ = scores.shape\n",
        "    loss = -np.sum(np.log(probs[np.arange(N), y_batch])) / N\n",
        "\n",
        "    # PUT YOUR CODE BELOW:\n",
        "    # Implement the gradient for the cross-entropy loss, storing the result\n",
        "    # in dy.\n",
        "    #\n",
        "    # Hint: Instead of computing the gradient from scratch, it may be easier\n",
        "    # to reuse some of the intermediate values that you used to compute the\n",
        "    # loss.\n",
        "\n",
        "    dy = probs.copy()\n",
        "    dy[np.arange(N), y_batch] -= 1\n",
        "    dy /= N\n",
        "\n",
        "    # The lines below do not need to be changed.\n",
        "    return loss, dy"
      ],
      "metadata": {
        "id": "5hIEv5fl9llO"
      },
      "execution_count": 35,
      "outputs": []
    },
    {
      "cell_type": "markdown",
      "source": [
        "&#9660;\n",
        "Run the following cell to define the `CrossEntropy` classifier class."
      ],
      "metadata": {
        "id": "8h0EQF-yuu8Z"
      }
    },
    {
      "cell_type": "code",
      "source": [
        "class CrossEntropy(LinearClassifier):\n",
        "    \"\"\" A subclass that uses the Softmax + Cross-entropy loss function \"\"\"\n",
        "\n",
        "    def loss(self, scores, y_batch):\n",
        "        return cross_entropy_loss(scores, y_batch)"
      ],
      "metadata": {
        "id": "RKYgCIcHczy1"
      },
      "execution_count": 36,
      "outputs": []
    },
    {
      "cell_type": "markdown",
      "source": [
        "#### 2.2.2.1 Cross-Entropy Experiments\n",
        "\n",
        "In the next few cells run the `Solver` with softmax models on the training and validation data you've defined previously,\n",
        "similarly to the SVM experiments.\n",
        "Use the `DATA` dictionary you defined previously as the data parameter.\n",
        "\n",
        "Keep the top 5 best performing models and the worst performing model on the validation set."
      ],
      "metadata": {
        "id": "Ug02WvIg5DT8"
      }
    },
    {
      "cell_type": "markdown",
      "source": [
        "&#9658; Implement the hyperparameter validation loop in the next cell to train multiple models with different hyperparameters.\n",
        "Keep the top 5 best performing models on the validation set.\n",
        "You can try different learning rates.\n",
        "You may change the number of epochs, but be wary of timeouts."
      ],
      "metadata": {
        "id": "qRFvUnysFwvt"
      }
    },
    {
      "cell_type": "code",
      "source": [
        "# Defining the Hyperparameteres needed\n",
        "learning_rates = [1e-4, 5e-4, 1e-3, 5e-3, 1e-2]\n",
        "num_epochs_list = [5, 10, 20]\n",
        "batch_size = 200\n",
        "validation_frequency = 100\n",
        "\n",
        "results = []\n",
        "models = []\n",
        "\n",
        "for lr in learning_rates:\n",
        "    for num_epochs in num_epochs_list:\n",
        "        print(f\"Training model with learning rate={lr}, epochs={num_epochs}\")\n",
        "\n",
        "        # Instantiate model\n",
        "        model = CrossEntropy(input_dim=DATA[\"X_train\"].shape[1], num_classes=10)\n",
        "\n",
        "        # Instantiate solver\n",
        "        solver = Solver(\n",
        "            model,\n",
        "            DATA,\n",
        "            learning_rate=lr,\n",
        "            num_epochs=num_epochs,\n",
        "            batch_size=batch_size,\n",
        "            validation_frequency=validation_frequency\n",
        "        )\n",
        "\n",
        "        # Train the model\n",
        "        solver.train()\n",
        "\n",
        "        # Evaluate on validation set\n",
        "        val_predictions = model.predict(DATA[\"X_val\"])\n",
        "        val_accuracy = np.mean(val_predictions == DATA[\"Y_val\"])\n",
        "        print(f\"Validation accuracy: {val_accuracy * 100:.2f}%\\n\")\n",
        "\n",
        "        # Store the results\n",
        "        results.append({\n",
        "            'model': model,\n",
        "            'val_accuracy': val_accuracy,\n",
        "            'learning_rate': lr,\n",
        "            'num_epochs': num_epochs\n",
        "        })\n"
      ],
      "metadata": {
        "id": "05Od5fTg5Dqz",
        "colab": {
          "base_uri": "https://localhost:8080/"
        },
        "outputId": "8a9e38b4-03bb-471d-9c0a-111f3911a2b2"
      },
      "execution_count": 39,
      "outputs": [
        {
          "output_type": "stream",
          "name": "stdout",
          "text": [
            "Training model with learning rate=0.0001, epochs=5\n",
            "The validation accuracy at iteration 100  is               63.625%\n",
            "The validation accuracy at iteration 200  is               70.72500000000001%\n",
            "The validation accuracy at iteration 300  is               72.85000000000001%\n",
            "The validation accuracy at iteration 400  is               73.825%\n",
            "The validation accuracy at iteration 400  is               73.825%\n",
            "Validation accuracy: 73.83%\n",
            "\n",
            "Training model with learning rate=0.0001, epochs=10\n",
            "The validation accuracy at iteration 100  is               68.45%\n",
            "The validation accuracy at iteration 200  is               72.32499999999999%\n",
            "The validation accuracy at iteration 300  is               73.52499999999999%\n",
            "The validation accuracy at iteration 400  is               74.375%\n",
            "The validation accuracy at iteration 500  is               74.875%\n",
            "The validation accuracy at iteration 600  is               75.25%\n",
            "The validation accuracy at iteration 700  is               75.85%\n",
            "The validation accuracy at iteration 800  is               76.44999999999999%\n",
            "The validation accuracy at iteration 800  is               76.44999999999999%\n",
            "Validation accuracy: 76.45%\n",
            "\n",
            "Training model with learning rate=0.0001, epochs=20\n",
            "The validation accuracy at iteration 100  is               67.10000000000001%\n",
            "The validation accuracy at iteration 200  is               71.45%\n",
            "The validation accuracy at iteration 300  is               72.89999999999999%\n",
            "The validation accuracy at iteration 400  is               73.6%\n",
            "The validation accuracy at iteration 500  is               74.47500000000001%\n",
            "The validation accuracy at iteration 600  is               74.9%\n",
            "The validation accuracy at iteration 700  is               75.625%\n",
            "The validation accuracy at iteration 800  is               76.2%\n",
            "The validation accuracy at iteration 900  is               76.775%\n",
            "The validation accuracy at iteration 1000  is               77.225%\n",
            "The validation accuracy at iteration 1100  is               77.575%\n",
            "The validation accuracy at iteration 1200  is               77.97500000000001%\n",
            "The validation accuracy at iteration 1300  is               78.14999999999999%\n",
            "The validation accuracy at iteration 1400  is               78.64999999999999%\n",
            "The validation accuracy at iteration 1500  is               79.05%\n",
            "The validation accuracy at iteration 1600  is               79.25%\n",
            "The validation accuracy at iteration 1600  is               79.25%\n",
            "Validation accuracy: 79.25%\n",
            "\n",
            "Training model with learning rate=0.0005, epochs=5\n",
            "The validation accuracy at iteration 100  is               75.35%\n",
            "The validation accuracy at iteration 200  is               77.17500000000001%\n",
            "The validation accuracy at iteration 300  is               78.925%\n",
            "The validation accuracy at iteration 400  is               80.05%\n",
            "The validation accuracy at iteration 400  is               80.05%\n",
            "Validation accuracy: 80.05%\n",
            "\n",
            "Training model with learning rate=0.0005, epochs=10\n",
            "The validation accuracy at iteration 100  is               75.25%\n",
            "The validation accuracy at iteration 200  is               77.025%\n",
            "The validation accuracy at iteration 300  is               78.85%\n",
            "The validation accuracy at iteration 400  is               80.10000000000001%\n",
            "The validation accuracy at iteration 500  is               81.475%\n",
            "The validation accuracy at iteration 600  is               82.3%\n",
            "The validation accuracy at iteration 700  is               82.8%\n",
            "The validation accuracy at iteration 800  is               83.05%\n",
            "The validation accuracy at iteration 800  is               83.05%\n",
            "Validation accuracy: 83.05%\n",
            "\n",
            "Training model with learning rate=0.0005, epochs=20\n",
            "The validation accuracy at iteration 100  is               74.875%\n",
            "The validation accuracy at iteration 200  is               77.075%\n",
            "The validation accuracy at iteration 300  is               78.60000000000001%\n",
            "The validation accuracy at iteration 400  is               80.27499999999999%\n",
            "The validation accuracy at iteration 500  is               81.35%\n",
            "The validation accuracy at iteration 600  is               82.25%\n",
            "The validation accuracy at iteration 700  is               82.775%\n",
            "The validation accuracy at iteration 800  is               83.2%\n",
            "The validation accuracy at iteration 900  is               83.775%\n",
            "The validation accuracy at iteration 1000  is               84.22500000000001%\n",
            "The validation accuracy at iteration 1100  is               84.375%\n",
            "The validation accuracy at iteration 1200  is               84.55%\n",
            "The validation accuracy at iteration 1300  is               84.85000000000001%\n",
            "The validation accuracy at iteration 1400  is               84.975%\n",
            "The validation accuracy at iteration 1500  is               85.25%\n",
            "The validation accuracy at iteration 1600  is               85.45%\n",
            "The validation accuracy at iteration 1600  is               85.45%\n",
            "Validation accuracy: 85.45%\n",
            "\n",
            "Training model with learning rate=0.001, epochs=5\n",
            "The validation accuracy at iteration 100  is               76.95%\n",
            "The validation accuracy at iteration 200  is               80.05%\n",
            "The validation accuracy at iteration 300  is               82.025%\n",
            "The validation accuracy at iteration 400  is               83.075%\n",
            "The validation accuracy at iteration 400  is               83.075%\n",
            "Validation accuracy: 83.08%\n",
            "\n",
            "Training model with learning rate=0.001, epochs=10\n",
            "The validation accuracy at iteration 100  is               77.0%\n",
            "The validation accuracy at iteration 200  is               80.15%\n",
            "The validation accuracy at iteration 300  is               82.125%\n",
            "The validation accuracy at iteration 400  is               83.125%\n",
            "The validation accuracy at iteration 500  is               84.075%\n",
            "The validation accuracy at iteration 600  is               84.75%\n",
            "The validation accuracy at iteration 700  is               85.05%\n",
            "The validation accuracy at iteration 800  is               85.65%\n",
            "The validation accuracy at iteration 800  is               85.65%\n",
            "Validation accuracy: 85.65%\n",
            "\n",
            "Training model with learning rate=0.001, epochs=20\n",
            "The validation accuracy at iteration 100  is               76.97500000000001%\n",
            "The validation accuracy at iteration 200  is               80.125%\n",
            "The validation accuracy at iteration 300  is               82.075%\n",
            "The validation accuracy at iteration 400  is               83.075%\n",
            "The validation accuracy at iteration 500  is               84.1%\n",
            "The validation accuracy at iteration 600  is               84.6%\n",
            "The validation accuracy at iteration 700  is               85.1%\n",
            "The validation accuracy at iteration 800  is               85.55%\n",
            "The validation accuracy at iteration 900  is               86.125%\n",
            "The validation accuracy at iteration 1000  is               86.225%\n",
            "The validation accuracy at iteration 1100  is               86.5%\n",
            "The validation accuracy at iteration 1200  is               86.8%\n",
            "The validation accuracy at iteration 1300  is               87.02499999999999%\n",
            "The validation accuracy at iteration 1400  is               87.125%\n",
            "The validation accuracy at iteration 1500  is               87.225%\n",
            "The validation accuracy at iteration 1600  is               87.4%\n",
            "The validation accuracy at iteration 1600  is               87.4%\n",
            "Validation accuracy: 87.40%\n",
            "\n",
            "Training model with learning rate=0.005, epochs=5\n",
            "The validation accuracy at iteration 100  is               84.125%\n",
            "The validation accuracy at iteration 200  is               86.325%\n",
            "The validation accuracy at iteration 300  is               87.125%\n",
            "The validation accuracy at iteration 400  is               87.725%\n",
            "The validation accuracy at iteration 400  is               87.725%\n",
            "Validation accuracy: 87.72%\n",
            "\n",
            "Training model with learning rate=0.005, epochs=10\n",
            "The validation accuracy at iteration 100  is               84.125%\n",
            "The validation accuracy at iteration 200  is               86.325%\n",
            "The validation accuracy at iteration 300  is               87.15%\n",
            "The validation accuracy at iteration 400  is               87.8%\n",
            "The validation accuracy at iteration 500  is               88.425%\n",
            "The validation accuracy at iteration 600  is               88.775%\n",
            "The validation accuracy at iteration 700  is               89.05%\n",
            "The validation accuracy at iteration 800  is               89.125%\n",
            "The validation accuracy at iteration 800  is               89.125%\n",
            "Validation accuracy: 89.12%\n",
            "\n",
            "Training model with learning rate=0.005, epochs=20\n",
            "The validation accuracy at iteration 100  is               83.89999999999999%\n",
            "The validation accuracy at iteration 200  is               86.325%\n",
            "The validation accuracy at iteration 300  is               87.15%\n",
            "The validation accuracy at iteration 400  is               87.725%\n",
            "The validation accuracy at iteration 500  is               88.325%\n",
            "The validation accuracy at iteration 600  is               88.725%\n",
            "The validation accuracy at iteration 700  is               89.05%\n",
            "The validation accuracy at iteration 800  is               89.1%\n",
            "The validation accuracy at iteration 900  is               89.64999999999999%\n",
            "The validation accuracy at iteration 1000  is               89.775%\n",
            "The validation accuracy at iteration 1100  is               89.575%\n",
            "The validation accuracy at iteration 1200  is               89.725%\n",
            "The validation accuracy at iteration 1300  is               89.97500000000001%\n",
            "The validation accuracy at iteration 1400  is               90.025%\n",
            "The validation accuracy at iteration 1500  is               90.025%\n",
            "The validation accuracy at iteration 1600  is               89.925%\n",
            "The validation accuracy at iteration 1600  is               89.925%\n",
            "Validation accuracy: 89.92%\n",
            "\n",
            "Training model with learning rate=0.01, epochs=5\n",
            "The validation accuracy at iteration 100  is               86.275%\n",
            "The validation accuracy at iteration 200  is               87.7%\n",
            "The validation accuracy at iteration 300  is               88.675%\n",
            "The validation accuracy at iteration 400  is               89.1%\n",
            "The validation accuracy at iteration 400  is               89.1%\n",
            "Validation accuracy: 89.10%\n",
            "\n",
            "Training model with learning rate=0.01, epochs=10\n",
            "The validation accuracy at iteration 100  is               86.175%\n",
            "The validation accuracy at iteration 200  is               87.85%\n",
            "The validation accuracy at iteration 300  is               88.75%\n",
            "The validation accuracy at iteration 400  is               89.1%\n",
            "The validation accuracy at iteration 500  is               89.625%\n",
            "The validation accuracy at iteration 600  is               89.85%\n",
            "The validation accuracy at iteration 700  is               89.9%\n",
            "The validation accuracy at iteration 800  is               89.9%\n",
            "The validation accuracy at iteration 800  is               89.9%\n",
            "Validation accuracy: 89.90%\n",
            "\n",
            "Training model with learning rate=0.01, epochs=20\n",
            "The validation accuracy at iteration 100  is               86.35000000000001%\n",
            "The validation accuracy at iteration 200  is               87.725%\n",
            "The validation accuracy at iteration 300  is               88.725%\n",
            "The validation accuracy at iteration 400  is               89.1%\n",
            "The validation accuracy at iteration 500  is               89.625%\n",
            "The validation accuracy at iteration 600  is               89.85%\n",
            "The validation accuracy at iteration 700  is               89.925%\n",
            "The validation accuracy at iteration 800  is               89.85%\n",
            "The validation accuracy at iteration 900  is               90.2%\n",
            "The validation accuracy at iteration 1000  is               90.14999999999999%\n",
            "The validation accuracy at iteration 1100  is               90.17500000000001%\n",
            "The validation accuracy at iteration 1200  is               90.275%\n",
            "The validation accuracy at iteration 1300  is               90.35%\n",
            "The validation accuracy at iteration 1400  is               90.45%\n",
            "The validation accuracy at iteration 1500  is               90.575%\n",
            "The validation accuracy at iteration 1600  is               90.675%\n",
            "The validation accuracy at iteration 1600  is               90.675%\n",
            "Validation accuracy: 90.67%\n",
            "\n"
          ]
        }
      ]
    },
    {
      "cell_type": "markdown",
      "source": [
        "&#9658; Implement the testing performance of your top 5 performing softmax models on the test set and print the results."
      ],
      "metadata": {
        "id": "4GdpbgYg5D8W"
      }
    },
    {
      "cell_type": "code",
      "source": [
        "# Sort the results by validation accuracy in descending order\n",
        "sorted_results = sorted(results, key=lambda x: x['val_accuracy'], reverse=True)\n",
        "\n",
        "# Keep the top 5 and the worst model\n",
        "top_5_models = sorted_results[:5]\n",
        "worst_model = sorted_results[-1]\n",
        "\n",
        "for idx, result in enumerate(top_5_models):\n",
        "    model = result['model']\n",
        "    test_predictions = model.predict(x_test)\n",
        "    test_accuracy = np.mean(test_predictions == y_test)\n",
        "    print(f\"Model {idx+1}:\")\n",
        "    print(f\"Learning rate: {result['learning_rate']}, Epochs: {result['num_epochs']}\")\n",
        "    print(f\"Validation accuracy: {result['val_accuracy'] * 100:.2f}%\")\n",
        "    print(f\"Test accuracy: {test_accuracy * 100:.2f}%\\n\")"
      ],
      "metadata": {
        "id": "0SEDP9m-EZNm",
        "colab": {
          "base_uri": "https://localhost:8080/"
        },
        "outputId": "45e11917-47b5-4751-df54-292b1a646cca"
      },
      "execution_count": 40,
      "outputs": [
        {
          "output_type": "stream",
          "name": "stdout",
          "text": [
            "Model 1:\n",
            "Learning rate: 0.01, Epochs: 20\n",
            "Validation accuracy: 90.67%\n",
            "Test accuracy: 91.14%\n",
            "\n",
            "Model 2:\n",
            "Learning rate: 0.005, Epochs: 20\n",
            "Validation accuracy: 89.92%\n",
            "Test accuracy: 90.64%\n",
            "\n",
            "Model 3:\n",
            "Learning rate: 0.01, Epochs: 10\n",
            "Validation accuracy: 89.90%\n",
            "Test accuracy: 90.61%\n",
            "\n",
            "Model 4:\n",
            "Learning rate: 0.005, Epochs: 10\n",
            "Validation accuracy: 89.12%\n",
            "Test accuracy: 89.75%\n",
            "\n",
            "Model 5:\n",
            "Learning rate: 0.01, Epochs: 5\n",
            "Validation accuracy: 89.10%\n",
            "Test accuracy: 89.73%\n",
            "\n"
          ]
        }
      ]
    },
    {
      "cell_type": "markdown",
      "source": [
        "&#9658; Implement the next cell to visualize the weights corresponding to each sample in the *best* performing softmax models.\n",
        "You should have ten 28x28 images.\n",
        "\n",
        "You can add additional cells below.\n",
        "\n",
        "Depending on your learning rate and weights, it might not look so great. If all the images look the same but you have good accuracy, try subtracting the average of weights from weights of each class."
      ],
      "metadata": {
        "id": "s8j9KoxfXgY5"
      }
    },
    {
      "cell_type": "code",
      "source": [
        "best_model = top_5_models[0]['model']\n",
        "weights = best_model.params['W1']  # Shape: (input_dim + 1, num_classes)\n",
        "weights_no_bias = weights[:-1, :]  # Shape: (input_dim, num_classes)\n",
        "mean_weights = np.mean(weights_no_bias, axis=1, keepdims=True)\n",
        "weights_centered = weights_no_bias - mean_weights\n",
        "for i in range(10):  # For each class\n",
        "    w = weights_no_bias[:, i]  # Shape: (input_dim,)\n",
        "    w = w.reshape(28, 28)  # Reshape to 28x28\n",
        "    # Normalize weights to [0, 255]\n",
        "    w_min, w_max = w.min(), w.max()\n",
        "    w_normalized = 255 * (w - w_min) / (w_max - w_min)\n",
        "    w_normalized = w_normalized.astype(np.uint8)\n",
        "    plt.subplot(2, 5, i+1)\n",
        "    plt.imshow(w_normalized, cmap='gray')\n",
        "    plt.axis('off')\n",
        "    plt.title(f\"Class {i}\")\n",
        "plt.show()"
      ],
      "metadata": {
        "id": "oxuJHeU45EVk",
        "colab": {
          "base_uri": "https://localhost:8080/",
          "height": 346
        },
        "outputId": "ac4ac028-0aa6-4ba0-dc74-e5840c3b2944"
      },
      "execution_count": 41,
      "outputs": [
        {
          "output_type": "display_data",
          "data": {
            "text/plain": [
              "<Figure size 640x480 with 10 Axes>"
            ],
            "image/png": "[encoded data removed]"
          },
          "metadata": {}
        }
      ]
    },
    {
      "cell_type": "markdown",
      "source": [
        "# Part 3: Deeper Neural Networks (Very Slightly)"
      ],
      "metadata": {
        "id": "A7mX-suZStG9"
      }
    },
    {
      "cell_type": "markdown",
      "source": [
        "Up to now, we have been working with linear classification models.\n",
        "Linear classification models are very adept at modelling data that have nice linear boundaries.\n",
        "In practice, real world data is rarely linear.\n",
        "Multilayer, fully-connected neural networks with non-linear activation functions on the other hand can model non-linear data-label relationships.\n",
        "Such models are a powerful extension to linear models and are the building blocks of modern deep learning.\n",
        "\n",
        "In this section,\n",
        "you will be implementing a two-layer, fully-connected neural network.\n",
        "You will also implement your own version of the rectified linear unit fuction (commonly referred to as ReLU),\n",
        "a non-linear activation function."
      ],
      "metadata": {
        "id": "j60wKxwhXu2H"
      }
    },
    {
      "cell_type": "markdown",
      "source": [
        "## 3.1 ReLU Function\n",
        "\n",
        "The ReLU function is given by:\n",
        "\n",
        "$$\n",
        "f(x) = \\max(0, x)\n",
        "$$"
      ],
      "metadata": {
        "id": "gP_YgE1JWj1m"
      }
    },
    {
      "cell_type": "markdown",
      "source": [
        "&#9658; Implement the following cell to complete the definition of the `ReLU_forward` function."
      ],
      "metadata": {
        "id": "SF20M-YOWSdE"
      }
    },
    {
      "cell_type": "code",
      "source": [
        "def ReLU_forward(x):\n",
        "    \"\"\"\n",
        "    Computes the forward pass for a ReLU actiivation.\n",
        "\n",
        "    The input x has shape (N, D) and contains a minibatch of N\n",
        "    examples, where each sample x[i] has shape (D).  (For generality, D here does\n",
        "    not mean the number of features, but is just some arbitrary constant.)\n",
        "    This function will then just evalute the ReLU() function for each\n",
        "    element.  The output will thus again be a matrix of shape (N, D).\n",
        "\n",
        "    Inputs:\n",
        "    - x: A numpy array containing input data, of shape (N, D)\n",
        "\n",
        "    Returns a tuple of:\n",
        "    - out: output, of shape (N, D)\n",
        "    - cache: (x)\n",
        "    \"\"\"\n",
        "    out = None\n",
        "\n",
        "    # PUT YOUR CODE BELOW: Implement the ReLU forward pass. Store the result in\n",
        "    # out. You will need to reshape the input into rows.\n",
        "\n",
        "    out = np.maximum(0, x)\n",
        "\n",
        "    # The lines below do not need to be changed.\n",
        "\n",
        "    cache = (x,)\n",
        "    return out, cache"
      ],
      "metadata": {
        "id": "tQ-CcTqJStgz"
      },
      "execution_count": 42,
      "outputs": []
    },
    {
      "cell_type": "markdown",
      "source": [
        "The derivative of the ReLU function is given by:\n",
        "\n",
        "$$\n",
        "\\frac{d \\mathrm{ReLU}(x)}{dx} = \\left\\{\n",
        "\\begin{array}{ll}\n",
        "      0 & x \\leq 0 \\\\\n",
        "      1 & x > 0 \\\\\n",
        "\\end{array}\n",
        "\\right.\n",
        "$$"
      ],
      "metadata": {
        "id": "g3LU7V4Ib4xj"
      }
    },
    {
      "cell_type": "markdown",
      "source": [
        "&#9658; Implement the following cell to complete the definition of the `ReLU_backward(d_upstream, cache)` function."
      ],
      "metadata": {
        "id": "ScME_zhFWXsa"
      }
    },
    {
      "cell_type": "code",
      "source": [
        "def ReLU_backward(d_upstream, cache):\n",
        "    \"\"\"\n",
        "    Computes the backward pass for an linear layer.\n",
        "\n",
        "    Inputs:\n",
        "    - d_upstream: Upstream derivative, of shape (N, D)\n",
        "    - cache: Tuple of:\n",
        "      - x: Input data, of shape (N, D)\n",
        "\n",
        "    Returns a tuple of:\n",
        "    - dx: Gradient with respect to x, of shape (N, D)\n",
        "    \"\"\"\n",
        "    x,  = cache\n",
        "    dx = None\n",
        "\n",
        "    # PUT YOUR CODE BELOW: Implement the ReLU backward pass.\n",
        "\n",
        "    dx = d_upstream * (x > 0)\n",
        "\n",
        "    # The lines below do not need to be changed.\n",
        "\n",
        "    return (dx, )"
      ],
      "metadata": {
        "id": "fTn6t0FaVBSs"
      },
      "execution_count": 43,
      "outputs": []
    },
    {
      "cell_type": "markdown",
      "source": [
        "## 3.2 Two-layer Neural Network\n",
        "\n",
        "We will now implement the model for the two-layer NN.\n",
        "\n",
        "&#9658; Implement the definition of the two-layer neural network below.\n",
        "\n",
        "Similar to the `LinearClassifier` class, you should write the `__init__`, `forward`, `backward`, and `predict` methods. We will be using the cross-entropy loss for this network.\n",
        "\n",
        "Complete the following:\n",
        "- The `__init__()` method initializes the class. You must generate two random weight matrices. We will be using the bias trick, so the bias should concatenated to the weight matrix. They are initialized differently.\n",
        "\n",
        "- The `forward()` method generates the scores\n",
        "for given an input sample,\n",
        "by applying a combination of `linear_forward()` and `ReLU_forward()` with appropriate inputs.Make sure to store and return the cache for the intermediate steps.\n",
        "\n",
        "- The `backward()` method returns the gradients with respect to the inputs and weights, using a combination of `linear_backward()` and `ReLU_backward()`. Make sure the keys for the returned dictionary `weights_gradient` matches the keys in the `self.params` dictionary.\n",
        "\n",
        "- The `predict()` method returns the labels predicted from the scores returned using the `self.forward()` method."
      ],
      "metadata": {
        "id": "jYDMTehxYP75"
      }
    },
    {
      "cell_type": "code",
      "source": [
        "class TwoLayerNet(object):\n",
        "    \"\"\"\n",
        "    A two-layer fully-connected neural network with ReLU nonlinearity and\n",
        "    softmax loss that uses a modular layer design. We assume an input dimension\n",
        "    of D, a hidden dimension of H, and perform classification over C classes.\n",
        "\n",
        "    The architecure should be transform - relu - transform - softmax.\n",
        "\n",
        "    Note that this class does not implement gradient descent; instead, it\n",
        "    will interact with a separate Solver object that is responsible for running\n",
        "    optimization.\n",
        "\n",
        "    The learnable parameters of the model are stored in the dictionary\n",
        "    self.params that maps parameter names to numpy arrays.\n",
        "    \"\"\"\n",
        "    def __init__(self,\n",
        "                 input_dim,\n",
        "                 hidden_dim=100,\n",
        "                 num_classes=10,\n",
        "                 weight_scale=1e-3):\n",
        "        \"\"\"\n",
        "        \"\"\"\n",
        "\n",
        "        self.params = {}\n",
        "        self.hidden_dim = hidden_dim\n",
        "        self.input_dim = input_dim\n",
        "        self.num_classes = num_classes\n",
        "\n",
        "        # PUT YOUR CODE BELOW: Initialize the weights of the two-layer net. Weights should be\n",
        "        # initialized from a Gaussian centered at 0.0 with standard deviation\n",
        "        # equal to weight_scale, and biases should be initialized to zero.\n",
        "        # All weights should be stored in the dictionary self.params, with first\n",
        "        # layer weights and using the keys 'W1' and second layer weights and using\n",
        "        # the keys 'W2'. Make sure to concatenate the weights and biases to make a\n",
        "        # a single matrix for the bias trick!\n",
        "\n",
        "        self.params[\"W1\"] = np.random.normal(0, weight_scale,(input_dim + 1, hidden_dim))\n",
        "        self.params[\"W2\"] = np.random.normal(0, weight_scale,(hidden_dim + 1, num_classes))\n",
        "        b1 = np.zeros((1, hidden_dim))\n",
        "        b2 = np.zeros((1, num_classes))\n",
        "        self.params[\"W1\"] = np.vstack((self.params[\"W1\"], b1))\n",
        "        self.params[\"W2\"] = np.vstack((self.params[\"W2\"], b2))\n",
        "\n",
        "\n",
        "\n",
        "        # The lines below do not need to be changed in this method.\n",
        "\n",
        "\n",
        "    def forward(self, x):\n",
        "        \"\"\"\n",
        "        Implement the forward pass of the neural network and return the scores\n",
        "\n",
        "        Inputs:\n",
        "        - x: A numpy array containing input data, of shape (N, self.input_dim)\n",
        "\n",
        "\n",
        "        Returns a tuple of:\n",
        "        - out: output, of shape (N, D)\n",
        "        - Tuple of tuples:\n",
        "          - cache_lin_1: A tuple (x, w1)\n",
        "            - x: data, of shape (N, self.input_dim)\n",
        "            - w1: Weight of linear layer 1 of shape (self.input_dim+1, self.hidden_dim)\n",
        "          - cache_relu_1: A tuple (h, )\n",
        "            - h : data, of shape (N, self.hidden_dim)\n",
        "          - cache_lin_2:  A tuple (h, w2)\n",
        "            - h: data, of shape (N, self.hidden_dim)\n",
        "            - w2: weight of linear 2 of shape (self.hidden_dim+1, C)\n",
        "        \"\"\"\n",
        "        out = None\n",
        "        N, feature_dim = x.shape\n",
        "        cache_lin_1, cache_relu_1, cache_lin_2 = None, None, None\n",
        "\n",
        "        if (feature_dim != self.input_dim):\n",
        "            raise Exception(f\"The input feature dimension of {feature_dim} does \\\n",
        "                            not match the expected feature dimension of \\\n",
        "                            {self.input_dim} \")\n",
        "\n",
        "\n",
        "        # PUT YOUR CODE BELOW: Perform a forward pass of the two-layer net.\n",
        "        # The architecture is transform - relu - transform\n",
        "        # Make to store the appropriate cache in the appropriate variables\n",
        "\n",
        "        w1 = self.params[\"W1\"]\n",
        "        w2 = self.params[\"W2\"]\n",
        "\n",
        "        h1, cache_lin_1 = linear_forward(x, w1)\n",
        "        h2, cache_relu_1 = ReLU_forward(h1)\n",
        "        out, cache_lin_2 = linear_forward(h2, w2)\n",
        "\n",
        "\n",
        "        # The lines below do not need to be changed in this method.\n",
        "\n",
        "        return out, (cache_lin_1, cache_relu_1, cache_lin_2)\n",
        "\n",
        "\n",
        "    def backward(self, dout, cache):\n",
        "        \"\"\"\n",
        "        Implement the backward pass of the neural network and return the\n",
        "        gradients w.r.t the input, and the weights\n",
        "\n",
        "        Inputs:\n",
        "        - dout: Upstream derivative, of shape (N, C)\n",
        "        - cache: Tuple of tuples:\n",
        "          - cache_lin_1: A tuple (x, w1)\n",
        "            - x: data, of shape (N, self.input_dim)\n",
        "            - w1: Weight of linear layer 1 of shape (self.input_dim+1, self.hidden_dim)\n",
        "          - cache_relu_1: A tuple (h, )\n",
        "            - h : data, of shape (N, self.hidden_dim)\n",
        "          - cache_lin_2:  A tuple (h, w2)\n",
        "            - h: data, of shape (N, self.hidden_dim)\n",
        "            - w2: weight of linear 2 of shape (self.hidden_dim+1, C)\n",
        "\n",
        "        Returns a tuple of:\n",
        "          - dx: A numpy array of the gradient with respect to x, of shape (N, D)\n",
        "          - weight_gradients: A dictionary of numpy arrays containing the\n",
        "              gradients with respect to the weights.\n",
        "        \"\"\"\n",
        "\n",
        "        weight_gradients = {}\n",
        "        dx = None\n",
        "\n",
        "        N, classes = dout.shape\n",
        "\n",
        "        cache_lin_1, cache_relu_1, cache_lin_2 = cache\n",
        "\n",
        "        if (classes != self.num_classes):\n",
        "            raise Exception(f\"The output class dimension of {classes} does \\\n",
        "                            not match the expected number of classes \\\n",
        "                            {self.num_classes} \")\n",
        "\n",
        "        # PUT YOUR CODE BELOW: Perform a backward pass of the two-layer net.\n",
        "\n",
        "        h2, w2 = cache_lin_2\n",
        "        h1, = cache_relu_1\n",
        "        x, w2 = cache_lin_2\n",
        "\n",
        "        dx, weight_gradients[\"W2\"] = linear_backward(dout, cache_lin_2)\n",
        "        dx, _ = ReLU_backward(dx, cache_relu_1)\n",
        "        dx, weight_gradients[\"W1\"] = linear_backward(dx, cache_lin_1)\n",
        "\n",
        "        # The lines below do not need to be changed in this method.\n",
        "        return (dx, weight_gradients)\n",
        "\n",
        "    def predict(self, x):\n",
        "\n",
        "        \"\"\"\n",
        "        Implement the predictions from the forward pass of the neural network and\n",
        "        returns it.\n",
        "\n",
        "        Inputs:\n",
        "        - x: Input data, of shape (N, self.input_dim)\n",
        "\n",
        "        Returns a tuple of:\n",
        "          - predictions: A numpy array of shape (N, ) of the predicted class per sample\n",
        "\n",
        "        \"\"\"\n",
        "\n",
        "        y_pred = None\n",
        "\n",
        "\n",
        "        # PUT YOUR CODE BELOW: Predict the classes of using the two-layer net.\n",
        "\n",
        "        scores, _ = self.forward(x)\n",
        "        y_pred = np.argmax(scores, axis=1)\n",
        "\n",
        "\n",
        "        # The lines below do not need to be changed in this method.\n",
        "\n",
        "        return y_pred\n",
        "\n",
        "    def loss(self, scores, y_batch):\n",
        "        \"\"\"\n",
        "        Compute the loss using the cross_entropy_loss function and its\n",
        "        derivative: -1/np.sqrt(input_dim).\n",
        "        Inputs:\n",
        "        - scores: A numpy array of shape (N, C) containing a minibatch of N\n",
        "          data points; each point has dimension C, where C is the number of classes.\n",
        "        - y_batch: A numpy array of shape (N,) containing labels for the minibatch.\n",
        "\n",
        "        Returns: A tuple containing:\n",
        "        - loss as a single float\n",
        "        - gradient with respect to scores; an array of the same shape as W\n",
        "        \"\"\"\n",
        "        # The lines below do not need to be changed in this method.\n",
        "        return cross_entropy_loss(scores, y_batch)"
      ],
      "metadata": {
        "id": "dSr_3dSiYQOf"
      },
      "execution_count": 44,
      "outputs": []
    },
    {
      "cell_type": "markdown",
      "source": [
        "## 3.3 Experiments\n",
        "\n",
        "Similar to the linear classifiers,\n",
        "you also want to identify the configuration of hyperparameters that perform the best for your dataset.\n",
        "E.g.,\n",
        "you can vary the learning rate for your solver.\n",
        "You should use the `Solver` class for these models as well.\n",
        "Use the `DATA` dictionary you defined previously as the data parameter.\n",
        "\n",
        "Additionaly, the neural network provides another hyperparameter to vary, the the number of neurons in the hidden layer.\n",
        "\n",
        "Adding a large of number of neurons may cause a large degradation in performance, the linear transformation scales as $O(N^3)$ with the number of neurons."
      ],
      "metadata": {
        "id": "yovrIeNablvV"
      }
    },
    {
      "cell_type": "markdown",
      "source": [
        "&#9658; Implement a hyperparameter validation loop in the next cell to train multiple models with different hyperparameters. Keep the top-5 best performing models on the validation set. You may change learning rate, and hidden dims. You may change the num_epochs, but be wary of timeouts."
      ],
      "metadata": {
        "id": "N8zQgNiK-I9g"
      }
    },
    {
      "cell_type": "code",
      "source": [],
      "metadata": {
        "id": "qwZysCge-Js5"
      },
      "execution_count": null,
      "outputs": []
    },
    {
      "cell_type": "markdown",
      "source": [
        "&#9658; Implement the testing performance of your top-5 performing NN models on the test set and print the results. You can add additional cells below."
      ],
      "metadata": {
        "id": "zi1hTKxU-Kap"
      }
    },
    {
      "cell_type": "code",
      "source": [],
      "metadata": {
        "id": "QL6IbrNo-PTh"
      },
      "execution_count": null,
      "outputs": []
    },
    {
      "cell_type": "markdown",
      "source": [
        "&#9658; Implement visualization for the `W1` weights of the *best* performing NN models. There are `hidden_dim` many of them per model. You should visualize a subset of the weights. You can select the columns at random.\n",
        "\n",
        "You can add additional cells below."
      ],
      "metadata": {
        "id": "qC8IL-RNdCOY"
      }
    },
    {
      "cell_type": "code",
      "source": [],
      "metadata": {
        "id": "R-CGHrOtdCb9"
      },
      "execution_count": null,
      "outputs": []
    }
  ]
}